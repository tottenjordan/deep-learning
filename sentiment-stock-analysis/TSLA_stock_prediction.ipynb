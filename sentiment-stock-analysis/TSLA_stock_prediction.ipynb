{
  "nbformat": 4,
  "nbformat_minor": 0,
  "metadata": {
    "colab": {
      "name": "TSLA-stock-prediction.ipynb",
      "version": "0.3.2",
      "provenance": [],
      "collapsed_sections": [
        "2IJd7BhxrFUl",
        "bU0uRvYXrmLu",
        "q_dSKH-Ur3wN",
        "nF5sg5zVvM3z",
        "cqSkAP7MpPoc"
      ],
      "include_colab_link": true
    },
    "kernelspec": {
      "name": "python3",
      "display_name": "Python 3"
    }
  },
  "cells": [
    {
      "cell_type": "markdown",
      "metadata": {
        "id": "view-in-github",
        "colab_type": "text"
      },
      "source": [
        "<a href=\"https://colab.research.google.com/github/tottenjordan/deep-learning/blob/master/sentiment-stock-analysis/TSLA_stock_prediction.ipynb\" target=\"_parent\"><img src=\"https://colab.research.google.com/assets/colab-badge.svg\" alt=\"Open In Colab\"/></a>"
      ]
    },
    {
      "metadata": {
        "id": "WNqNyVSwid5u",
        "colab_type": "code",
        "outputId": "a3d5159a-459b-402f-fce1-cdd4f4365773",
        "colab": {
          "base_uri": "https://localhost:8080/",
          "height": 34
        }
      },
      "cell_type": "code",
      "source": [
        "from google.colab import drive\n",
        "drive.mount('/content/drive')"
      ],
      "execution_count": 0,
      "outputs": [
        {
          "output_type": "stream",
          "text": [
            "Drive already mounted at /content/drive; to attempt to forcibly remount, call drive.mount(\"/content/drive\", force_remount=True).\n"
          ],
          "name": "stdout"
        }
      ]
    },
    {
      "metadata": {
        "id": "MRaayQi_ihkv",
        "colab_type": "code",
        "outputId": "40f5cb70-8255-4b29-d916-5ebc0186dd23",
        "colab": {
          "base_uri": "https://localhost:8080/",
          "height": 34
        }
      },
      "cell_type": "code",
      "source": [
        "import os\n",
        "import pandas as pd\n",
        "import pandas_datareader\n",
        "import matplotlib\n",
        "import matplotlib.pyplot as plt\n",
        "from matplotlib import pyplot\n",
        "import pandas_datareader.data as pdr\n",
        "from datetime import datetime\n",
        "import scipy\n",
        "import numpy as np\n",
        "from sklearn.preprocessing import MinMaxScaler\n",
        "from statsmodels.tsa.stattools import adfuller # dickey fuller test\n",
        "\n",
        "%matplotlib inline\n",
        "\n",
        "# Importing the Keras libraries and packages\n",
        "import keras\n",
        "from keras.models import Sequential\n",
        "from keras.layers import Dense\n",
        "from keras.layers import LSTM\n",
        "from keras.layers import Dropout\n",
        "keras.__version__"
      ],
      "execution_count": 0,
      "outputs": [
        {
          "output_type": "execute_result",
          "data": {
            "text/plain": [
              "'2.2.4'"
            ]
          },
          "metadata": {
            "tags": []
          },
          "execution_count": 217
        }
      ]
    },
    {
      "metadata": {
        "id": "wMyT5yyB-JPv",
        "colab_type": "text"
      },
      "cell_type": "markdown",
      "source": [
        "### File Directory"
      ]
    },
    {
      "metadata": {
        "id": "mSg1o-DR-LQ-",
        "colab_type": "code",
        "colab": {}
      },
      "cell_type": "code",
      "source": [
        "data_dir = \"/content/drive/My Drive/Colab Notebooks/stock-tickers\"\n",
        "five_year_stock_returns = \"/content/drive/My Drive/Colab Notebooks/stock-tickers/TLSA-Returns-031312-030819.csv\"\n",
        "five_year_stock_features = '/content/drive/My Drive/Colab Notebooks/stock-tickers/vF-TLSA-Features-031312-030819.csv'\n",
        "five_year_stock_targets = \"/content/drive/My Drive/Colab Notebooks/stock-tickers/v2-Full-Target-TLSA-Returns-031312-030819.csv\"\n",
        "subset_no_sentiment_features = \"/content/drive/My Drive/Colab Notebooks/stock-tickers/TSLA-No-Sentiment-Features.csv\"\n",
        "subset_sentiment_stock_targets = '/content/drive/My Drive/Colab Notebooks/stock-tickers/TSLA-Sentiment-Target-Signals.csv'\n",
        "subset_sentiment_stock_features = '/content/drive/My Drive/Colab Notebooks/stock-tickers/v6-TSLA-Returns-Aug18-Mar19.csv'"
      ],
      "execution_count": 0,
      "outputs": []
    },
    {
      "metadata": {
        "id": "TsH6xXLhiqR6",
        "colab_type": "text"
      },
      "cell_type": "markdown",
      "source": [
        "# Stock Prediction: Closing Price\n",
        "* predict closing price\n",
        "* no sentiment analysis"
      ]
    },
    {
      "metadata": {
        "id": "kAjjfKeuiowE",
        "colab_type": "code",
        "outputId": "6f0e624b-76b1-40fe-a48e-c1e8d61b1e7f",
        "colab": {
          "base_uri": "https://localhost:8080/",
          "height": 204
        }
      },
      "cell_type": "code",
      "source": [
        "data = pd.read_csv(five_year_stock_returns)\n",
        "data.head()"
      ],
      "execution_count": 0,
      "outputs": [
        {
          "output_type": "execute_result",
          "data": {
            "text/html": [
              "<div>\n",
              "<style scoped>\n",
              "    .dataframe tbody tr th:only-of-type {\n",
              "        vertical-align: middle;\n",
              "    }\n",
              "\n",
              "    .dataframe tbody tr th {\n",
              "        vertical-align: top;\n",
              "    }\n",
              "\n",
              "    .dataframe thead th {\n",
              "        text-align: right;\n",
              "    }\n",
              "</style>\n",
              "<table border=\"1\" class=\"dataframe\">\n",
              "  <thead>\n",
              "    <tr style=\"text-align: right;\">\n",
              "      <th></th>\n",
              "      <th>date</th>\n",
              "      <th>open</th>\n",
              "      <th>high</th>\n",
              "      <th>low</th>\n",
              "      <th>close</th>\n",
              "      <th>volume</th>\n",
              "      <th>returns</th>\n",
              "      <th>log_returns</th>\n",
              "    </tr>\n",
              "  </thead>\n",
              "  <tbody>\n",
              "    <tr>\n",
              "      <th>0</th>\n",
              "      <td>2014-03-13</td>\n",
              "      <td>243.79</td>\n",
              "      <td>244.1900</td>\n",
              "      <td>234.00</td>\n",
              "      <td>237.79</td>\n",
              "      <td>6236325</td>\n",
              "      <td>-0.015322</td>\n",
              "      <td>-0.015440</td>\n",
              "    </tr>\n",
              "    <tr>\n",
              "      <th>1</th>\n",
              "      <td>2014-03-14</td>\n",
              "      <td>235.29</td>\n",
              "      <td>236.9365</td>\n",
              "      <td>228.32</td>\n",
              "      <td>230.97</td>\n",
              "      <td>8289733</td>\n",
              "      <td>-0.028681</td>\n",
              "      <td>-0.029100</td>\n",
              "    </tr>\n",
              "    <tr>\n",
              "      <th>2</th>\n",
              "      <td>2014-03-17</td>\n",
              "      <td>234.95</td>\n",
              "      <td>237.9300</td>\n",
              "      <td>230.50</td>\n",
              "      <td>233.98</td>\n",
              "      <td>5912592</td>\n",
              "      <td>0.013032</td>\n",
              "      <td>0.012948</td>\n",
              "    </tr>\n",
              "    <tr>\n",
              "      <th>3</th>\n",
              "      <td>2014-03-18</td>\n",
              "      <td>236.95</td>\n",
              "      <td>241.5000</td>\n",
              "      <td>235.02</td>\n",
              "      <td>240.04</td>\n",
              "      <td>6242349</td>\n",
              "      <td>0.025900</td>\n",
              "      <td>0.025570</td>\n",
              "    </tr>\n",
              "    <tr>\n",
              "      <th>4</th>\n",
              "      <td>2014-03-19</td>\n",
              "      <td>241.39</td>\n",
              "      <td>241.5500</td>\n",
              "      <td>233.51</td>\n",
              "      <td>235.84</td>\n",
              "      <td>5071327</td>\n",
              "      <td>-0.017497</td>\n",
              "      <td>-0.017652</td>\n",
              "    </tr>\n",
              "  </tbody>\n",
              "</table>\n",
              "</div>"
            ],
            "text/plain": [
              "         date    open      high     low   close   volume   returns  \\\n",
              "0  2014-03-13  243.79  244.1900  234.00  237.79  6236325 -0.015322   \n",
              "1  2014-03-14  235.29  236.9365  228.32  230.97  8289733 -0.028681   \n",
              "2  2014-03-17  234.95  237.9300  230.50  233.98  5912592  0.013032   \n",
              "3  2014-03-18  236.95  241.5000  235.02  240.04  6242349  0.025900   \n",
              "4  2014-03-19  241.39  241.5500  233.51  235.84  5071327 -0.017497   \n",
              "\n",
              "   log_returns  \n",
              "0    -0.015440  \n",
              "1    -0.029100  \n",
              "2     0.012948  \n",
              "3     0.025570  \n",
              "4    -0.017652  "
            ]
          },
          "metadata": {
            "tags": []
          },
          "execution_count": 219
        }
      ]
    },
    {
      "metadata": {
        "id": "z5EEEhJMlweo",
        "colab_type": "code",
        "outputId": "a31c659e-e51a-4929-a262-4376eb3ad98c",
        "colab": {
          "base_uri": "https://localhost:8080/",
          "height": 51
        }
      },
      "cell_type": "code",
      "source": [
        "fname = os.path.join(data_dir, five_year_stock_returns)\n",
        "\n",
        "f = open(fname)\n",
        "data = f.read()\n",
        "f.close()\n",
        "\n",
        "lines = data.split('\\n')\n",
        "header = lines[0].split(',')\n",
        "lines = lines[1:1256]\n",
        "\n",
        "print(header)\n",
        "print(len(lines))"
      ],
      "execution_count": 0,
      "outputs": [
        {
          "output_type": "stream",
          "text": [
            "['date', 'open', 'high', 'low', 'close', 'volume', 'returns', 'log_returns']\n",
            "1255\n"
          ],
          "name": "stdout"
        }
      ]
    },
    {
      "metadata": {
        "id": "ZVMEfAPFl2eK",
        "colab_type": "code",
        "outputId": "3b8f0b9d-45af-4a48-a193-f0b2955136be",
        "colab": {
          "base_uri": "https://localhost:8080/",
          "height": 238
        }
      },
      "cell_type": "code",
      "source": [
        "float_data = np.zeros((len(lines), len(header)-1))\n",
        "for i, line in enumerate(lines):\n",
        "    if len(line) > 0:\n",
        "      values = [float(x) for x in line.split(',')[1:]]\n",
        "      float_data[i, :] = values\n",
        "\n",
        "float_data"
      ],
      "execution_count": 0,
      "outputs": [
        {
          "output_type": "execute_result",
          "data": {
            "text/plain": [
              "array([[ 2.43790000e+02,  2.44190000e+02,  2.34000000e+02, ...,\n",
              "         6.23632500e+06, -1.53215454e-02, -1.54401331e-02],\n",
              "       [ 2.35290000e+02,  2.36936500e+02,  2.28320000e+02, ...,\n",
              "         8.28973300e+06, -2.86807687e-02, -2.91000993e-02],\n",
              "       [ 2.34950000e+02,  2.37930000e+02,  2.30500000e+02, ...,\n",
              "         5.91259200e+06,  1.30319955e-02,  1.29478097e-02],\n",
              "       ...,\n",
              "       [ 2.82000000e+02,  2.84000000e+02,  2.70100000e+02, ...,\n",
              "         1.87647400e+07, -3.09083263e-02, -3.13960651e-02],\n",
              "       [ 2.76480000e+02,  2.81505800e+02,  2.74390000e+02, ...,\n",
              "         1.03354850e+07, -1.08483402e-03, -1.08542288e-03],\n",
              "       [ 2.78840000e+02,  2.84700000e+02,  2.74250000e+02, ...,\n",
              "         9.44248300e+06,  1.26701419e-03,  1.26621221e-03]])"
            ]
          },
          "metadata": {
            "tags": []
          },
          "execution_count": 283
        }
      ]
    },
    {
      "metadata": {
        "id": "g8kSQdN9l5cn",
        "colab_type": "code",
        "outputId": "ad99a278-65be-4094-9b5a-ea78c1cdac7f",
        "colab": {
          "base_uri": "https://localhost:8080/",
          "height": 392
        }
      },
      "cell_type": "code",
      "source": [
        "close = float_data[:, 3]  # closing price\n",
        "log_r = float_data[:, 6]  # log return\n",
        "\n",
        "plt.figure(figsize=(16,6))\n",
        "plt.subplot(211)\n",
        "plt.plot(range(len(log_r)), log_r, label='Log Returns')\n",
        "plt.legend(loc='best')\n",
        "plt.figure(figsize=(16,6))\n",
        "plt.subplot(212)\n",
        "plt.plot(range(len(close)), close, label='Close Price')\n",
        "plt.legend(loc='best')\n",
        "#plt.tight_layout()"
      ],
      "execution_count": 0,
      "outputs": [
        {
          "output_type": "execute_result",
          "data": {
            "text/plain": [
              "<matplotlib.legend.Legend at 0x7faf298a37b8>"
            ]
          },
          "metadata": {
            "tags": []
          },
          "execution_count": 284
        },
        {
          "output_type": "display_data",
          "data": {
            "image/png": "[encoded data removed]",
            "text/plain": [
              "<Figure size 1152x432 with 1 Axes>"
            ]
          },
          "metadata": {
            "tags": []
          }
        },
        {
          "output_type": "display_data",
          "data": {
            "image/png": "[encoded data removed]",
            "text/plain": [
              "<Figure size 1152x432 with 1 Axes>"
            ]
          },
          "metadata": {
            "tags": []
          }
        }
      ]
    },
    {
      "metadata": {
        "id": "sDcYPqxtnnMy",
        "colab_type": "code",
        "colab": {}
      },
      "cell_type": "code",
      "source": [
        "mean = float_data[:750].mean(axis=0)\n",
        "float_data -= mean\n",
        "std = float_data[:750].std(axis=0)\n",
        "float_data /= std"
      ],
      "execution_count": 0,
      "outputs": []
    },
    {
      "metadata": {
        "id": "wGqvq_zkoCJr",
        "colab_type": "text"
      },
      "cell_type": "markdown",
      "source": [
        "### Data Generator\n",
        "\n",
        "* This generator yields a tuple `(samples, targets)` \n",
        "* `samples` = one batch of input data and `targets` isthe corresponding arrary of target close prices\n",
        "* **data** is the original array of floating point data (normalized)\n",
        "* **lookback** = how many timesteps back the input data should go\n",
        "* **delay** = how many timesteps in the future the target should be\n",
        "* **min_index** and **max_index** = indices in the data array that delimt which time steps to draw from (useful when using validation data)\n",
        "* **shuffle** = whether to shuffle the samples or draw them in chronological order\n",
        "* **bach_size** = the number of samples per batch\n",
        "* **step** = the period, in timesteps, at which you sample data. 1 timestep = 1 day\n"
      ]
    },
    {
      "metadata": {
        "id": "daDLmosqnqr9",
        "colab_type": "code",
        "colab": {}
      },
      "cell_type": "code",
      "source": [
        "def generator(data, lookback, delay, min_index, max_index,\n",
        "              shuffle=False, batch_size=64, step=1):\n",
        "    if max_index is None:\n",
        "        max_index = len(data) - delay - 1\n",
        "    i = min_index + lookback\n",
        "    while 1:\n",
        "        if shuffle:\n",
        "            rows = np.random.randint(\n",
        "                min_index + lookback, max_index, size=batch_size)\n",
        "        else:\n",
        "            if i + batch_size >= max_index:\n",
        "                i = min_index + lookback\n",
        "            rows = np.arange(i, min(i + batch_size, max_index))\n",
        "            i += len(rows)\n",
        "\n",
        "        samples = np.zeros((len(rows),\n",
        "                           lookback // step,\n",
        "                           data.shape[-1]))\n",
        "        targets = np.zeros((len(rows),))\n",
        "        for j, row in enumerate(rows):\n",
        "            indices = range(rows[j] - lookback, rows[j], step)\n",
        "            samples[j] = data[indices]\n",
        "            targets[j] = data[rows[j] + delay][3] # closing price\n",
        "        yield samples, targets"
      ],
      "execution_count": 0,
      "outputs": []
    },
    {
      "metadata": {
        "id": "OHTQT4Y-nxKH",
        "colab_type": "code",
        "outputId": "62e0b81b-69ef-4c32-ee88-064f56cacffe",
        "colab": {
          "base_uri": "https://localhost:8080/",
          "height": 68
        }
      },
      "cell_type": "code",
      "source": [
        "lookback = 15 #\n",
        "step = 5 #\n",
        "delay = 1\n",
        "batch_size = 32\n",
        "\n",
        "train_gen = generator(float_data,\n",
        "                      lookback=lookback,\n",
        "                      delay=delay,\n",
        "                      min_index=0,\n",
        "                      max_index=750,\n",
        "                      shuffle=True,\n",
        "                      step=step, \n",
        "                      batch_size=batch_size)\n",
        "val_gen = generator(float_data,\n",
        "                    lookback=lookback,\n",
        "                    delay=delay,\n",
        "                    min_index=751,\n",
        "                    max_index=1000,\n",
        "                    step=step,\n",
        "                    batch_size=batch_size)\n",
        "test_gen = generator(float_data,\n",
        "                     lookback=lookback,\n",
        "                     delay=delay,\n",
        "                     min_index=1001,\n",
        "                     max_index=None,\n",
        "                     step=step,\n",
        "                     batch_size=batch_size)\n",
        "\n",
        "# This is how many steps to draw from `val_gen`\n",
        "# in order to see the whole validation set:\n",
        "val_steps = (1000 - 751 - lookback) #// batch_size\n",
        "\n",
        "# This is how many steps to draw from `test_gen`\n",
        "# in order to see the whole test set:\n",
        "test_steps = (len(float_data) - 1001 - lookback) #// batch_size\n",
        "\n",
        "print(val_steps)\n",
        "print(test_steps)\n",
        "print(len(float_data))"
      ],
      "execution_count": 0,
      "outputs": [
        {
          "output_type": "stream",
          "text": [
            "234\n",
            "239\n",
            "1255\n"
          ],
          "name": "stdout"
        }
      ]
    },
    {
      "metadata": {
        "id": "qePpEpX6nzc1",
        "colab_type": "code",
        "outputId": "36b84d6a-ba82-454e-a618-fa495e75973b",
        "colab": {
          "base_uri": "https://localhost:8080/",
          "height": 34
        }
      },
      "cell_type": "code",
      "source": [
        "def evaluate_naive_method():\n",
        "    batch_maes = []\n",
        "    for step in range(val_steps):\n",
        "        samples, targets = next(val_gen)\n",
        "        preds = samples[:, -1, 3] # close price\n",
        "        mae = np.mean(np.abs(preds - targets))\n",
        "        batch_maes.append(mae)\n",
        "    print(np.mean(batch_maes))\n",
        "    \n",
        "evaluate_naive_method()"
      ],
      "execution_count": 0,
      "outputs": [
        {
          "output_type": "stream",
          "text": [
            "0.5960224102143753\n"
          ],
          "name": "stdout"
        }
      ]
    },
    {
      "metadata": {
        "id": "aFKPcsjOn3vq",
        "colab_type": "text"
      },
      "cell_type": "markdown",
      "source": [
        "### Baseline machine learning approach\n",
        "* fully connected model\n",
        "* starts by flattening the data \n",
        "* two dense layers\n",
        "* no activation function (typical of regression problem) \n",
        "* use MAE as loss \n",
        "* results should be comparable to the baseline, no machine learning problem"
      ]
    },
    {
      "metadata": {
        "id": "cj9vJ4jnn6Ng",
        "colab_type": "code",
        "outputId": "289eaa16-7ee2-4ecf-f7f1-86a09b4bbcd1",
        "colab": {
          "base_uri": "https://localhost:8080/",
          "height": 357
        }
      },
      "cell_type": "code",
      "source": [
        "from keras.models import Sequential\n",
        "from keras import layers\n",
        "from keras.optimizers import RMSprop\n",
        "\n",
        "model = Sequential()\n",
        "model.add(layers.Flatten(input_shape=(lookback // step, float_data.shape[-1])))\n",
        "model.add(layers.Dense(32, activation='relu'))\n",
        "model.add(layers.Dense(1))\n",
        "\n",
        "model.compile(optimizer=RMSprop(), loss='mae')\n",
        "history = model.fit_generator(train_gen,\n",
        "                              steps_per_epoch=500,\n",
        "                              epochs=10,\n",
        "                              validation_data=val_gen,\n",
        "                              validation_steps=val_steps)"
      ],
      "execution_count": 0,
      "outputs": [
        {
          "output_type": "stream",
          "text": [
            "Epoch 1/10\n",
            "500/500 [==============================] - 15s 31ms/step - loss: 0.4516 - val_loss: 1.3917\n",
            "Epoch 2/10\n",
            "500/500 [==============================] - 2s 3ms/step - loss: 0.3763 - val_loss: 1.5012\n",
            "Epoch 3/10\n",
            "500/500 [==============================] - 2s 3ms/step - loss: 0.3644 - val_loss: 1.5587\n",
            "Epoch 4/10\n",
            "500/500 [==============================] - 2s 3ms/step - loss: 0.3533 - val_loss: 1.4718\n",
            "Epoch 5/10\n",
            "500/500 [==============================] - 2s 3ms/step - loss: 0.3469 - val_loss: 1.8017\n",
            "Epoch 6/10\n",
            "500/500 [==============================] - 2s 3ms/step - loss: 0.3424 - val_loss: 1.3738\n",
            "Epoch 7/10\n",
            "500/500 [==============================] - 2s 3ms/step - loss: 0.3362 - val_loss: 1.6623\n",
            "Epoch 8/10\n",
            "500/500 [==============================] - 2s 3ms/step - loss: 0.3340 - val_loss: 1.9079\n",
            "Epoch 9/10\n",
            "500/500 [==============================] - 2s 3ms/step - loss: 0.3294 - val_loss: 1.7073\n",
            "Epoch 10/10\n",
            "500/500 [==============================] - 2s 3ms/step - loss: 0.3214 - val_loss: 1.7489\n"
          ],
          "name": "stdout"
        }
      ]
    },
    {
      "metadata": {
        "id": "6QVMrX8LoUp-",
        "colab_type": "code",
        "outputId": "61eca1b9-081e-4688-eed6-6ef4924f399b",
        "colab": {
          "base_uri": "https://localhost:8080/",
          "height": 280
        }
      },
      "cell_type": "code",
      "source": [
        "loss = history.history['loss']\n",
        "val_loss = history.history['val_loss']\n",
        "\n",
        "epochs = range(len(loss))\n",
        "\n",
        "plt.figure()\n",
        "\n",
        "plt.plot(epochs, loss, 'bo', label='Training loss')\n",
        "plt.plot(epochs, val_loss, 'b', label='Validation loss')\n",
        "plt.title('Training and validation loss')\n",
        "plt.legend()\n",
        "\n",
        "plt.show()"
      ],
      "execution_count": 0,
      "outputs": [
        {
          "output_type": "display_data",
          "data": {
            "image/png": "[encoded data removed]",
            "text/plain": [
              "<Figure size 432x288 with 1 Axes>"
            ]
          },
          "metadata": {
            "tags": []
          }
        }
      ]
    },
    {
      "metadata": {
        "id": "b6H2zCaSoZQk",
        "colab_type": "text"
      },
      "cell_type": "markdown",
      "source": [
        "Some of our validation losses get close to the no-learning baseline, but not very reliably. This goes to show the merit of having had this baseline in the first place: it turns out not to be so easy to outperform. Our common sense contains already a lot of valuable information that a machine learning model does not have access to.\n",
        "\n",
        "That is a pretty significant limitation of machine learning in general: unless the learning algorithm is hard-coded to look for a specific kind of simple model, parameter learning can sometimes fail to find a simple solution to a simple problem."
      ]
    },
    {
      "metadata": {
        "id": "ez62UOExodxM",
        "colab_type": "text"
      },
      "cell_type": "markdown",
      "source": [
        "### First RNN baseline\n",
        "* First machine learning baseline (2D fully connected) did not consider time (sequences). the input data was flattened\n",
        "* Now use a gated recurrent unit (GRU) layer"
      ]
    },
    {
      "metadata": {
        "id": "rYF4vkYDobwc",
        "colab_type": "code",
        "outputId": "05d43d71-59f3-4d0e-fe2d-9cee026a3f7e",
        "colab": {
          "base_uri": "https://localhost:8080/",
          "height": 357
        }
      },
      "cell_type": "code",
      "source": [
        "model = Sequential()\n",
        "model.add(layers.GRU(32, input_shape=(None, float_data.shape[-1])))\n",
        "model.add(layers.Dense(1))\n",
        "\n",
        "model.compile(optimizer=RMSprop(), loss='mae')\n",
        "history = model.fit_generator(train_gen,\n",
        "                              steps_per_epoch=500,\n",
        "                              epochs=10,\n",
        "                              validation_data=val_gen,\n",
        "                              validation_steps=val_steps)"
      ],
      "execution_count": 0,
      "outputs": [
        {
          "output_type": "stream",
          "text": [
            "Epoch 1/10\n",
            "500/500 [==============================] - 16s 31ms/step - loss: 0.4264 - val_loss: 2.5218\n",
            "Epoch 2/10\n",
            "500/500 [==============================] - 2s 5ms/step - loss: 0.3924 - val_loss: 2.4906\n",
            "Epoch 3/10\n",
            "500/500 [==============================] - 2s 5ms/step - loss: 0.3784 - val_loss: 2.8594\n",
            "Epoch 4/10\n",
            "500/500 [==============================] - 2s 5ms/step - loss: 0.3736 - val_loss: 2.8963\n",
            "Epoch 5/10\n",
            "500/500 [==============================] - 3s 5ms/step - loss: 0.3607 - val_loss: 2.5996\n",
            "Epoch 6/10\n",
            "500/500 [==============================] - 3s 5ms/step - loss: 0.3480 - val_loss: 2.8130\n",
            "Epoch 7/10\n",
            "500/500 [==============================] - 2s 5ms/step - loss: 0.3353 - val_loss: 2.7981\n",
            "Epoch 8/10\n",
            "500/500 [==============================] - 2s 5ms/step - loss: 0.3296 - val_loss: 2.6558\n",
            "Epoch 9/10\n",
            "500/500 [==============================] - 2s 5ms/step - loss: 0.3141 - val_loss: 2.6938\n",
            "Epoch 10/10\n",
            "500/500 [==============================] - 3s 5ms/step - loss: 0.3111 - val_loss: 2.7323\n"
          ],
          "name": "stdout"
        }
      ]
    },
    {
      "metadata": {
        "id": "zKL0QYw6ojXE",
        "colab_type": "code",
        "outputId": "67336114-2227-4392-e877-d2c44a902b9f",
        "colab": {
          "base_uri": "https://localhost:8080/",
          "height": 280
        }
      },
      "cell_type": "code",
      "source": [
        "loss = history.history['loss']\n",
        "val_loss = history.history['val_loss']\n",
        "\n",
        "epochs = range(len(loss))\n",
        "\n",
        "plt.figure()\n",
        "\n",
        "plt.plot(epochs, loss, 'bo', label='Training loss')\n",
        "plt.plot(epochs, val_loss, 'b', label='Validation loss')\n",
        "plt.title('Training and validation loss')\n",
        "plt.legend()\n",
        "\n",
        "plt.show()"
      ],
      "execution_count": 0,
      "outputs": [
        {
          "output_type": "display_data",
          "data": {
            "image/png": "[encoded data removed]",
            "text/plain": [
              "<Figure size 432x288 with 1 Axes>"
            ]
          },
          "metadata": {
            "tags": []
          }
        }
      ]
    },
    {
      "metadata": {
        "id": "XWvqFtg6onyG",
        "colab_type": "text"
      },
      "cell_type": "markdown",
      "source": [
        "### RNN with dropout to fight overfitting"
      ]
    },
    {
      "metadata": {
        "id": "bQfJiDY7oq0f",
        "colab_type": "code",
        "outputId": "7656c56d-b64a-4c68-8e19-57519bd5d7d2",
        "colab": {
          "base_uri": "https://localhost:8080/",
          "height": 357
        }
      },
      "cell_type": "code",
      "source": [
        "model = Sequential()\n",
        "model.add(layers.GRU(64,\n",
        "                     dropout=0.2,\n",
        "                     recurrent_dropout=0.2,\n",
        "                     input_shape=(None, float_data.shape[-1])))\n",
        "model.add(layers.Dense(1))\n",
        "\n",
        "model.compile(optimizer=RMSprop(), loss='mae')\n",
        "history = model.fit_generator(train_gen,\n",
        "                              steps_per_epoch=500,\n",
        "                              epochs=10,\n",
        "                              validation_data=val_gen,\n",
        "                              validation_steps=val_steps)"
      ],
      "execution_count": 0,
      "outputs": [
        {
          "output_type": "stream",
          "text": [
            "Epoch 1/10\n",
            "500/500 [==============================] - 14s 28ms/step - loss: 0.4680 - val_loss: 1.7439\n",
            "Epoch 2/10\n",
            "500/500 [==============================] - 2s 4ms/step - loss: 0.4561 - val_loss: 1.9076\n",
            "Epoch 3/10\n",
            "500/500 [==============================] - 2s 4ms/step - loss: 0.4566 - val_loss: 1.8998\n",
            "Epoch 4/10\n",
            "500/500 [==============================] - 2s 4ms/step - loss: 0.4543 - val_loss: 1.8861\n",
            "Epoch 5/10\n",
            "500/500 [==============================] - 2s 4ms/step - loss: 0.4473 - val_loss: 1.9509\n",
            "Epoch 6/10\n",
            "500/500 [==============================] - 2s 4ms/step - loss: 0.4494 - val_loss: 1.9719\n",
            "Epoch 7/10\n",
            "500/500 [==============================] - 2s 4ms/step - loss: 0.4453 - val_loss: 2.1180\n",
            "Epoch 8/10\n",
            "500/500 [==============================] - 2s 4ms/step - loss: 0.4503 - val_loss: 2.0257\n",
            "Epoch 9/10\n",
            "500/500 [==============================] - 2s 4ms/step - loss: 0.4502 - val_loss: 2.0152\n",
            "Epoch 10/10\n",
            "500/500 [==============================] - 2s 4ms/step - loss: 0.4442 - val_loss: 1.9676\n"
          ],
          "name": "stdout"
        }
      ]
    },
    {
      "metadata": {
        "id": "reQpV6FkouDs",
        "colab_type": "code",
        "outputId": "b8cfa393-b871-467a-8af9-60e01c5e7ac2",
        "colab": {
          "base_uri": "https://localhost:8080/",
          "height": 280
        }
      },
      "cell_type": "code",
      "source": [
        "loss = history.history['loss']\n",
        "val_loss = history.history['val_loss']\n",
        "\n",
        "epochs = range(len(loss))\n",
        "\n",
        "plt.figure()\n",
        "\n",
        "plt.plot(epochs, loss, 'bo', label='Training loss')\n",
        "plt.plot(epochs, val_loss, 'b', label='Validation loss')\n",
        "plt.title('Training and validation loss')\n",
        "plt.legend()\n",
        "\n",
        "plt.show()"
      ],
      "execution_count": 0,
      "outputs": [
        {
          "output_type": "display_data",
          "data": {
            "image/png": "[encoded data removed]",
            "text/plain": [
              "<Figure size 432x288 with 1 Axes>"
            ]
          },
          "metadata": {
            "tags": []
          }
        }
      ]
    },
    {
      "metadata": {
        "id": "V3b-aOXNo1fr",
        "colab_type": "text"
      },
      "cell_type": "markdown",
      "source": [
        "### Stacking GRU Layers with Dropout"
      ]
    },
    {
      "metadata": {
        "id": "kkwMBJOQo4th",
        "colab_type": "code",
        "outputId": "6d1112d0-1131-46e9-d626-2ee5ba8ccd36",
        "colab": {
          "base_uri": "https://localhost:8080/",
          "height": 697
        }
      },
      "cell_type": "code",
      "source": [
        "from keras.models import Sequential\n",
        "from keras import layers\n",
        "from keras.optimizers import RMSprop\n",
        "\n",
        "model = Sequential()\n",
        "model.add(layers.GRU(32,\n",
        "                     dropout=0.1,\n",
        "                     recurrent_dropout=0.5,\n",
        "                     return_sequences=True,\n",
        "                     input_shape=(None, float_data.shape[-1])))\n",
        "model.add(layers.GRU(64, activation='relu',\n",
        "                     dropout=0.1, \n",
        "                     recurrent_dropout=0.5))\n",
        "model.add(layers.Dense(1))\n",
        "\n",
        "model.compile(optimizer=RMSprop(), loss='mae')\n",
        "history = model.fit_generator(train_gen,\n",
        "                              steps_per_epoch=500,\n",
        "                              epochs=20,\n",
        "                              validation_data=val_gen,\n",
        "                              validation_steps=val_steps)"
      ],
      "execution_count": 0,
      "outputs": [
        {
          "output_type": "stream",
          "text": [
            "Epoch 1/20\n",
            "500/500 [==============================] - 16s 33ms/step - loss: 0.4677 - val_loss: 1.7941\n",
            "Epoch 2/20\n",
            "500/500 [==============================] - 3s 5ms/step - loss: 0.4482 - val_loss: 1.7702\n",
            "Epoch 3/20\n",
            "500/500 [==============================] - 3s 5ms/step - loss: 0.4489 - val_loss: 1.8411\n",
            "Epoch 4/20\n",
            "500/500 [==============================] - 3s 5ms/step - loss: 0.4478 - val_loss: 1.8824\n",
            "Epoch 5/20\n",
            "500/500 [==============================] - 3s 5ms/step - loss: 0.4384 - val_loss: 1.7119\n",
            "Epoch 6/20\n",
            "500/500 [==============================] - 3s 6ms/step - loss: 0.4384 - val_loss: 1.7301\n",
            "Epoch 7/20\n",
            "500/500 [==============================] - 3s 6ms/step - loss: 0.4439 - val_loss: 1.9197\n",
            "Epoch 8/20\n",
            "500/500 [==============================] - 3s 6ms/step - loss: 0.4344 - val_loss: 1.8763\n",
            "Epoch 9/20\n",
            "500/500 [==============================] - 3s 6ms/step - loss: 0.4374 - val_loss: 1.8692\n",
            "Epoch 10/20\n",
            "500/500 [==============================] - 3s 6ms/step - loss: 0.4341 - val_loss: 1.8857\n",
            "Epoch 11/20\n",
            "500/500 [==============================] - 3s 5ms/step - loss: 0.4377 - val_loss: 1.8323\n",
            "Epoch 12/20\n",
            "500/500 [==============================] - 3s 6ms/step - loss: 0.4331 - val_loss: 1.8738\n",
            "Epoch 13/20\n",
            "500/500 [==============================] - 3s 5ms/step - loss: 0.4323 - val_loss: 1.9114\n",
            "Epoch 14/20\n",
            "500/500 [==============================] - 3s 5ms/step - loss: 0.4359 - val_loss: 2.0493\n",
            "Epoch 15/20\n",
            "500/500 [==============================] - 3s 5ms/step - loss: 0.4306 - val_loss: 1.9419\n",
            "Epoch 16/20\n",
            "500/500 [==============================] - 3s 5ms/step - loss: 0.4299 - val_loss: 2.0076\n",
            "Epoch 17/20\n",
            "500/500 [==============================] - 3s 5ms/step - loss: 0.4325 - val_loss: 1.9794\n",
            "Epoch 18/20\n",
            "500/500 [==============================] - 3s 5ms/step - loss: 0.4296 - val_loss: 1.9944\n",
            "Epoch 19/20\n",
            "500/500 [==============================] - 3s 5ms/step - loss: 0.4232 - val_loss: 1.9806\n",
            "Epoch 20/20\n",
            "500/500 [==============================] - 3s 5ms/step - loss: 0.4270 - val_loss: 1.8877\n"
          ],
          "name": "stdout"
        }
      ]
    },
    {
      "metadata": {
        "id": "-lvz24gbo5a3",
        "colab_type": "code",
        "outputId": "fa877f1c-8c6e-4283-ccee-a20f1aa39c03",
        "colab": {
          "base_uri": "https://localhost:8080/",
          "height": 280
        }
      },
      "cell_type": "code",
      "source": [
        "loss = history.history['loss']\n",
        "val_loss = history.history['val_loss']\n",
        "\n",
        "epochs = range(len(loss))\n",
        "\n",
        "plt.figure()\n",
        "\n",
        "plt.plot(epochs, loss, 'bo', label='Training loss')\n",
        "plt.plot(epochs, val_loss, 'b', label='Validation loss')\n",
        "plt.title('Training and validation loss')\n",
        "plt.legend()\n",
        "\n",
        "plt.show()"
      ],
      "execution_count": 0,
      "outputs": [
        {
          "output_type": "display_data",
          "data": {
            "image/png": "[encoded data removed]",
            "text/plain": [
              "<Figure size 432x288 with 1 Axes>"
            ]
          },
          "metadata": {
            "tags": []
          }
        }
      ]
    },
    {
      "metadata": {
        "id": "JMZBO7tdqAGL",
        "colab_type": "text"
      },
      "cell_type": "markdown",
      "source": [
        "# Stock Prediction: Returns\n",
        "* in finance, seeking stationary data is optimal. Let's see if the RNN performs better with log_returns\n",
        "* predict Returns\n",
        "* no sentiment analysis"
      ]
    },
    {
      "metadata": {
        "id": "zb4vRP-6qLF7",
        "colab_type": "code",
        "outputId": "fc26c276-ddf6-450a-bbc7-6c0b14d727a9",
        "colab": {
          "base_uri": "https://localhost:8080/",
          "height": 204
        }
      },
      "cell_type": "code",
      "source": [
        "data = pd.read_csv(five_year_stock_returns)\n",
        "data.head()"
      ],
      "execution_count": 0,
      "outputs": [
        {
          "output_type": "execute_result",
          "data": {
            "text/html": [
              "<div>\n",
              "<style scoped>\n",
              "    .dataframe tbody tr th:only-of-type {\n",
              "        vertical-align: middle;\n",
              "    }\n",
              "\n",
              "    .dataframe tbody tr th {\n",
              "        vertical-align: top;\n",
              "    }\n",
              "\n",
              "    .dataframe thead th {\n",
              "        text-align: right;\n",
              "    }\n",
              "</style>\n",
              "<table border=\"1\" class=\"dataframe\">\n",
              "  <thead>\n",
              "    <tr style=\"text-align: right;\">\n",
              "      <th></th>\n",
              "      <th>date</th>\n",
              "      <th>open</th>\n",
              "      <th>high</th>\n",
              "      <th>low</th>\n",
              "      <th>close</th>\n",
              "      <th>volume</th>\n",
              "      <th>returns</th>\n",
              "      <th>log_returns</th>\n",
              "    </tr>\n",
              "  </thead>\n",
              "  <tbody>\n",
              "    <tr>\n",
              "      <th>0</th>\n",
              "      <td>2014-03-13</td>\n",
              "      <td>243.79</td>\n",
              "      <td>244.1900</td>\n",
              "      <td>234.00</td>\n",
              "      <td>237.79</td>\n",
              "      <td>6236325</td>\n",
              "      <td>-0.015322</td>\n",
              "      <td>-0.015440</td>\n",
              "    </tr>\n",
              "    <tr>\n",
              "      <th>1</th>\n",
              "      <td>2014-03-14</td>\n",
              "      <td>235.29</td>\n",
              "      <td>236.9365</td>\n",
              "      <td>228.32</td>\n",
              "      <td>230.97</td>\n",
              "      <td>8289733</td>\n",
              "      <td>-0.028681</td>\n",
              "      <td>-0.029100</td>\n",
              "    </tr>\n",
              "    <tr>\n",
              "      <th>2</th>\n",
              "      <td>2014-03-17</td>\n",
              "      <td>234.95</td>\n",
              "      <td>237.9300</td>\n",
              "      <td>230.50</td>\n",
              "      <td>233.98</td>\n",
              "      <td>5912592</td>\n",
              "      <td>0.013032</td>\n",
              "      <td>0.012948</td>\n",
              "    </tr>\n",
              "    <tr>\n",
              "      <th>3</th>\n",
              "      <td>2014-03-18</td>\n",
              "      <td>236.95</td>\n",
              "      <td>241.5000</td>\n",
              "      <td>235.02</td>\n",
              "      <td>240.04</td>\n",
              "      <td>6242349</td>\n",
              "      <td>0.025900</td>\n",
              "      <td>0.025570</td>\n",
              "    </tr>\n",
              "    <tr>\n",
              "      <th>4</th>\n",
              "      <td>2014-03-19</td>\n",
              "      <td>241.39</td>\n",
              "      <td>241.5500</td>\n",
              "      <td>233.51</td>\n",
              "      <td>235.84</td>\n",
              "      <td>5071327</td>\n",
              "      <td>-0.017497</td>\n",
              "      <td>-0.017652</td>\n",
              "    </tr>\n",
              "  </tbody>\n",
              "</table>\n",
              "</div>"
            ],
            "text/plain": [
              "         date    open      high     low   close   volume   returns  \\\n",
              "0  2014-03-13  243.79  244.1900  234.00  237.79  6236325 -0.015322   \n",
              "1  2014-03-14  235.29  236.9365  228.32  230.97  8289733 -0.028681   \n",
              "2  2014-03-17  234.95  237.9300  230.50  233.98  5912592  0.013032   \n",
              "3  2014-03-18  236.95  241.5000  235.02  240.04  6242349  0.025900   \n",
              "4  2014-03-19  241.39  241.5500  233.51  235.84  5071327 -0.017497   \n",
              "\n",
              "   log_returns  \n",
              "0    -0.015440  \n",
              "1    -0.029100  \n",
              "2     0.012948  \n",
              "3     0.025570  \n",
              "4    -0.017652  "
            ]
          },
          "metadata": {
            "tags": []
          },
          "execution_count": 300
        }
      ]
    },
    {
      "metadata": {
        "id": "b4lmlDUBqrrw",
        "colab_type": "code",
        "outputId": "ebf5086f-0e16-431a-d42d-bd11e1a87ad7",
        "colab": {
          "base_uri": "https://localhost:8080/",
          "height": 51
        }
      },
      "cell_type": "code",
      "source": [
        "#data_dir = \"/content/drive/My Drive/Colab Notebooks/stock-tickers\"\n",
        "fname = os.path.join(data_dir, five_year_stock_returns)\n",
        "\n",
        "f = open(fname)\n",
        "data = f.read()\n",
        "f.close()\n",
        "\n",
        "lines = data.split('\\n')\n",
        "header = lines[0].split(',')\n",
        "lines = lines[1:1256]\n",
        "\n",
        "print(header)\n",
        "print(len(lines))"
      ],
      "execution_count": 0,
      "outputs": [
        {
          "output_type": "stream",
          "text": [
            "['date', 'open', 'high', 'low', 'close', 'volume', 'returns', 'log_returns']\n",
            "1255\n"
          ],
          "name": "stdout"
        }
      ]
    },
    {
      "metadata": {
        "id": "vxx8T8JQqwJn",
        "colab_type": "code",
        "colab": {}
      },
      "cell_type": "code",
      "source": [
        "float_data = np.zeros((len(lines), len(header)-1))\n",
        "for i, line in enumerate(lines):\n",
        "    if len(line) > 0:\n",
        "      values = [float(x) for x in line.split(',')[1:]]\n",
        "      float_data[i, :] = values\n",
        "\n",
        "#float_data"
      ],
      "execution_count": 0,
      "outputs": []
    },
    {
      "metadata": {
        "id": "70gR4XNUq0fg",
        "colab_type": "code",
        "colab": {}
      },
      "cell_type": "code",
      "source": [
        "mean = float_data[:750].mean(axis=0)\n",
        "float_data -= mean\n",
        "std = float_data[:750].std(axis=0)\n",
        "float_data /= std"
      ],
      "execution_count": 0,
      "outputs": []
    },
    {
      "metadata": {
        "id": "2IJd7BhxrFUl",
        "colab_type": "text"
      },
      "cell_type": "markdown",
      "source": [
        "### Data Generator"
      ]
    },
    {
      "metadata": {
        "id": "9QKLgXcOrEpK",
        "colab_type": "code",
        "colab": {}
      },
      "cell_type": "code",
      "source": [
        "def generator(data, lookback, delay, min_index, max_index,\n",
        "              shuffle=False, batch_size=64, step=1):\n",
        "    if max_index is None:\n",
        "        max_index = len(data) - delay - 1\n",
        "    i = min_index + lookback\n",
        "    while 1:\n",
        "        if shuffle:\n",
        "            rows = np.random.randint(\n",
        "                min_index + lookback, max_index, size=batch_size)\n",
        "        else:\n",
        "            if i + batch_size >= max_index:\n",
        "                i = min_index + lookback\n",
        "            rows = np.arange(i, min(i + batch_size, max_index))\n",
        "            i += len(rows)\n",
        "\n",
        "        samples = np.zeros((len(rows),\n",
        "                           lookback // step,\n",
        "                           data.shape[-1]))\n",
        "        targets = np.zeros((len(rows),))\n",
        "        for j, row in enumerate(rows):\n",
        "            indices = range(rows[j] - lookback, rows[j], step)\n",
        "            samples[j] = data[indices]\n",
        "            targets[j] = data[rows[j] + delay][6] # log returns\n",
        "        yield samples, targets"
      ],
      "execution_count": 0,
      "outputs": []
    },
    {
      "metadata": {
        "id": "PcaqXIqyrUSZ",
        "colab_type": "code",
        "outputId": "ae44f9bd-8114-497e-ea3c-eb8a350c657e",
        "colab": {
          "base_uri": "https://localhost:8080/",
          "height": 51
        }
      },
      "cell_type": "code",
      "source": [
        "lookback = 10\n",
        "step = 5 #\n",
        "delay = 1\n",
        "batch_size = 64\n",
        "\n",
        "train_gen = generator(float_data,\n",
        "                      lookback=lookback,\n",
        "                      delay=delay,\n",
        "                      min_index=0,\n",
        "                      max_index=750,\n",
        "                      shuffle=True,\n",
        "                      step=step, \n",
        "                      batch_size=batch_size)\n",
        "val_gen = generator(float_data,\n",
        "                    lookback=lookback,\n",
        "                    delay=delay,\n",
        "                    min_index=751,\n",
        "                    max_index=1000,\n",
        "                    step=step,\n",
        "                    batch_size=batch_size)\n",
        "test_gen = generator(float_data,\n",
        "                     lookback=lookback,\n",
        "                     delay=delay,\n",
        "                     min_index=1001,\n",
        "                     max_index=None,\n",
        "                     step=step,\n",
        "                     batch_size=batch_size)\n",
        "\n",
        "# This is how many steps to draw from `val_gen`\n",
        "# in order to see the whole validation set:\n",
        "val_steps = (1000 - 751 - lookback) #// batch_size\n",
        "\n",
        "# This is how many steps to draw from `test_gen`\n",
        "# in order to see the whole test set:\n",
        "test_steps = (len(float_data) - 1001 - lookback) #// batch_size\n",
        "\n",
        "print(val_steps)\n",
        "print(test_steps)"
      ],
      "execution_count": 0,
      "outputs": [
        {
          "output_type": "stream",
          "text": [
            "239\n",
            "244\n"
          ],
          "name": "stdout"
        }
      ]
    },
    {
      "metadata": {
        "id": "NwlfMaYIre_v",
        "colab_type": "code",
        "outputId": "b83b1969-d929-4342-a853-1b44de7a4108",
        "colab": {
          "base_uri": "https://localhost:8080/",
          "height": 34
        }
      },
      "cell_type": "code",
      "source": [
        "def evaluate_naive_method():\n",
        "    batch_maes = []\n",
        "    for step in range(val_steps):\n",
        "        samples, targets = next(val_gen)\n",
        "        preds = samples[:, -1, 6] # log returns\n",
        "        mae = np.mean(np.abs(preds - targets))\n",
        "        batch_maes.append(mae)\n",
        "    print(np.mean(batch_maes))\n",
        "    \n",
        "evaluate_naive_method()"
      ],
      "execution_count": 0,
      "outputs": [
        {
          "output_type": "stream",
          "text": [
            "0.989514505879687\n"
          ],
          "name": "stdout"
        }
      ]
    },
    {
      "metadata": {
        "id": "bU0uRvYXrmLu",
        "colab_type": "text"
      },
      "cell_type": "markdown",
      "source": [
        "### Baseline machine learning approach\n",
        "* fully connected model\n",
        "* starts by flattening the data \n",
        "* two dense layers\n",
        "* no activation function (typical of regression problem) \n",
        "* use MAE as loss \n",
        "* results should be comparable to the baseline, no machine learning problem"
      ]
    },
    {
      "metadata": {
        "id": "fkKIm1_JrlkM",
        "colab_type": "code",
        "outputId": "459a4ac4-43e2-4776-8308-4f9c6f08c620",
        "colab": {
          "base_uri": "https://localhost:8080/",
          "height": 357
        }
      },
      "cell_type": "code",
      "source": [
        "from keras.models import Sequential\n",
        "from keras import layers\n",
        "from keras.optimizers import RMSprop\n",
        "\n",
        "model = Sequential()\n",
        "model.add(layers.Flatten(input_shape=(lookback // step, float_data.shape[-1])))\n",
        "model.add(layers.Dense(32, activation='relu'))\n",
        "model.add(layers.Dense(1))\n",
        "\n",
        "model.compile(optimizer=RMSprop(), loss='mae')\n",
        "history = model.fit_generator(train_gen,\n",
        "                              steps_per_epoch=500,\n",
        "                              epochs=10,\n",
        "                              validation_data=val_gen,\n",
        "                              validation_steps=val_steps)"
      ],
      "execution_count": 0,
      "outputs": [
        {
          "output_type": "stream",
          "text": [
            "Epoch 1/10\n",
            "500/500 [==============================] - 15s 31ms/step - loss: 0.7037 - val_loss: 0.7340\n",
            "Epoch 2/10\n",
            "500/500 [==============================] - 2s 4ms/step - loss: 0.6843 - val_loss: 0.7337\n",
            "Epoch 3/10\n",
            "500/500 [==============================] - 2s 4ms/step - loss: 0.6740 - val_loss: 0.7381\n",
            "Epoch 4/10\n",
            "500/500 [==============================] - 2s 4ms/step - loss: 0.6624 - val_loss: 0.7518\n",
            "Epoch 5/10\n",
            "500/500 [==============================] - 2s 4ms/step - loss: 0.6554 - val_loss: 0.7579\n",
            "Epoch 6/10\n",
            "500/500 [==============================] - 2s 4ms/step - loss: 0.6486 - val_loss: 0.7582\n",
            "Epoch 7/10\n",
            "500/500 [==============================] - 2s 4ms/step - loss: 0.6460 - val_loss: 0.7809\n",
            "Epoch 8/10\n",
            "500/500 [==============================] - 2s 5ms/step - loss: 0.6349 - val_loss: 0.8769\n",
            "Epoch 9/10\n",
            "500/500 [==============================] - 2s 5ms/step - loss: 0.6308 - val_loss: 0.7851\n",
            "Epoch 10/10\n",
            "500/500 [==============================] - 2s 5ms/step - loss: 0.6252 - val_loss: 0.7887\n"
          ],
          "name": "stdout"
        }
      ]
    },
    {
      "metadata": {
        "id": "ne4Pyr-_rneH",
        "colab_type": "code",
        "outputId": "44c8242f-ae58-4119-9aea-ac8e2dbee527",
        "colab": {
          "base_uri": "https://localhost:8080/",
          "height": 280
        }
      },
      "cell_type": "code",
      "source": [
        "loss = history.history['loss']\n",
        "val_loss = history.history['val_loss']\n",
        "\n",
        "epochs = range(len(loss))\n",
        "\n",
        "plt.figure()\n",
        "\n",
        "plt.plot(epochs, loss, 'bo', label='Training loss')\n",
        "plt.plot(epochs, val_loss, 'b', label='Validation loss')\n",
        "plt.title('Training and validation loss')\n",
        "plt.legend()\n",
        "\n",
        "plt.show()"
      ],
      "execution_count": 0,
      "outputs": [
        {
          "output_type": "display_data",
          "data": {
            "image/png": "[encoded data removed]",
            "text/plain": [
              "<Figure size 432x288 with 1 Axes>"
            ]
          },
          "metadata": {
            "tags": []
          }
        }
      ]
    },
    {
      "metadata": {
        "id": "q_dSKH-Ur3wN",
        "colab_type": "text"
      },
      "cell_type": "markdown",
      "source": [
        "### Stacking GRU Layers with Dropout"
      ]
    },
    {
      "metadata": {
        "id": "1RREfUZ_r4ud",
        "colab_type": "code",
        "outputId": "a0eb9b65-f9aa-4bf8-ed5a-8a57dc982e52",
        "colab": {
          "base_uri": "https://localhost:8080/",
          "height": 357
        }
      },
      "cell_type": "code",
      "source": [
        "from keras.models import Sequential\n",
        "from keras import layers\n",
        "from keras.optimizers import RMSprop\n",
        "\n",
        "model = Sequential()\n",
        "model.add(layers.GRU(32,\n",
        "                     dropout=0.1,\n",
        "                     recurrent_dropout=0.5,\n",
        "                     return_sequences=True,\n",
        "                     input_shape=(None, float_data.shape[-1])))\n",
        "model.add(layers.GRU(64, activation='relu',\n",
        "                     dropout=0.1, \n",
        "                     recurrent_dropout=0.5))\n",
        "model.add(layers.Dense(1))\n",
        "\n",
        "model.compile(optimizer=RMSprop(), loss='mae')\n",
        "history = model.fit_generator(train_gen,\n",
        "                              steps_per_epoch=500,\n",
        "                              epochs=10,\n",
        "                              validation_data=val_gen,\n",
        "                              validation_steps=val_steps)"
      ],
      "execution_count": 0,
      "outputs": [
        {
          "output_type": "stream",
          "text": [
            "Epoch 1/10\n",
            "500/500 [==============================] - 19s 38ms/step - loss: 0.7093 - val_loss: 0.7027\n",
            "Epoch 2/10\n",
            "500/500 [==============================] - 5s 9ms/step - loss: 0.7033 - val_loss: 0.7003\n",
            "Epoch 3/10\n",
            "500/500 [==============================] - 5s 9ms/step - loss: 0.6890 - val_loss: 0.7150\n",
            "Epoch 4/10\n",
            "500/500 [==============================] - 5s 9ms/step - loss: 0.6788 - val_loss: 0.7095\n",
            "Epoch 5/10\n",
            "500/500 [==============================] - 5s 9ms/step - loss: 0.6756 - val_loss: 0.7003\n",
            "Epoch 6/10\n",
            "500/500 [==============================] - 5s 9ms/step - loss: 0.6669 - val_loss: 0.7094\n",
            "Epoch 7/10\n",
            "500/500 [==============================] - 5s 9ms/step - loss: 0.6536 - val_loss: 0.7256\n",
            "Epoch 8/10\n",
            "500/500 [==============================] - 5s 9ms/step - loss: 0.6509 - val_loss: 0.7208\n",
            "Epoch 9/10\n",
            "500/500 [==============================] - 5s 9ms/step - loss: 0.6488 - val_loss: 0.7268\n",
            "Epoch 10/10\n",
            "500/500 [==============================] - 5s 9ms/step - loss: 0.6269 - val_loss: 0.7282\n"
          ],
          "name": "stdout"
        }
      ]
    },
    {
      "metadata": {
        "id": "1pEgfdqvsnpL",
        "colab_type": "code",
        "outputId": "017273dd-c6f2-44c2-ebe1-6d80c65ce614",
        "colab": {
          "base_uri": "https://localhost:8080/",
          "height": 280
        }
      },
      "cell_type": "code",
      "source": [
        "loss = history.history['loss']\n",
        "val_loss = history.history['val_loss']\n",
        "\n",
        "epochs = range(len(loss))\n",
        "\n",
        "plt.figure()\n",
        "\n",
        "plt.plot(epochs, loss, 'bo', label='Training loss')\n",
        "plt.plot(epochs, val_loss, 'b', label='Validation loss')\n",
        "plt.title('Training and validation loss')\n",
        "plt.legend()\n",
        "\n",
        "plt.show()"
      ],
      "execution_count": 0,
      "outputs": [
        {
          "output_type": "display_data",
          "data": {
            "image/png": "[encoded data removed]",
            "text/plain": [
              "<Figure size 432x288 with 1 Axes>"
            ]
          },
          "metadata": {
            "tags": []
          }
        }
      ]
    },
    {
      "metadata": {
        "id": "nF5sg5zVvM3z",
        "colab_type": "text"
      },
      "cell_type": "markdown",
      "source": [
        "### Increase steps per epoch and decrease epochs"
      ]
    },
    {
      "metadata": {
        "id": "1YKkHAzzvC_a",
        "colab_type": "code",
        "outputId": "d81cd3c6-f8f7-4c3c-9047-88c6ce92a756",
        "colab": {
          "base_uri": "https://localhost:8080/",
          "height": 697
        }
      },
      "cell_type": "code",
      "source": [
        "from keras.models import Sequential\n",
        "from keras import layers\n",
        "from keras.optimizers import RMSprop\n",
        "\n",
        "model = Sequential()\n",
        "model.add(layers.GRU(32,\n",
        "                     dropout=0.1,\n",
        "                     recurrent_dropout=0.5,\n",
        "                     return_sequences=True,\n",
        "                     input_shape=(None, float_data.shape[-1])))\n",
        "model.add(layers.GRU(64, activation='relu',\n",
        "                     dropout=0.1, \n",
        "                     recurrent_dropout=0.5))\n",
        "model.add(layers.Dense(1))\n",
        "\n",
        "model.compile(optimizer=RMSprop(), loss='mae')\n",
        "history = model.fit_generator(train_gen,\n",
        "                              steps_per_epoch=1000,\n",
        "                              epochs=20,\n",
        "                              validation_data=val_gen,\n",
        "                              validation_steps=val_steps)"
      ],
      "execution_count": 0,
      "outputs": [
        {
          "output_type": "stream",
          "text": [
            "Epoch 1/20\n",
            "1000/1000 [==============================] - 23s 23ms/step - loss: 0.7059 - val_loss: 0.7033\n",
            "Epoch 2/20\n",
            "1000/1000 [==============================] - 8s 8ms/step - loss: 0.6886 - val_loss: 0.7182\n",
            "Epoch 3/20\n",
            "1000/1000 [==============================] - 8s 8ms/step - loss: 0.6720 - val_loss: 0.7356\n",
            "Epoch 4/20\n",
            "1000/1000 [==============================] - 8s 8ms/step - loss: 0.6585 - val_loss: 0.7205\n",
            "Epoch 5/20\n",
            "1000/1000 [==============================] - 8s 8ms/step - loss: 0.6387 - val_loss: 0.7203\n",
            "Epoch 6/20\n",
            "1000/1000 [==============================] - 9s 9ms/step - loss: 0.6228 - val_loss: 0.7389\n",
            "Epoch 7/20\n",
            "1000/1000 [==============================] - 8s 8ms/step - loss: 0.6155 - val_loss: 0.7174\n",
            "Epoch 8/20\n",
            "1000/1000 [==============================] - 8s 8ms/step - loss: 0.6007 - val_loss: 0.7145\n",
            "Epoch 9/20\n",
            "1000/1000 [==============================] - 8s 8ms/step - loss: 0.5845 - val_loss: 0.7640\n",
            "Epoch 10/20\n",
            "1000/1000 [==============================] - 8s 8ms/step - loss: 0.5751 - val_loss: 0.7190\n",
            "Epoch 11/20\n",
            "1000/1000 [==============================] - 8s 8ms/step - loss: 0.5698 - val_loss: 0.7279\n",
            "Epoch 12/20\n",
            "1000/1000 [==============================] - 8s 8ms/step - loss: 0.5672 - val_loss: 0.7384\n",
            "Epoch 13/20\n",
            "1000/1000 [==============================] - 8s 8ms/step - loss: 0.5505 - val_loss: 0.7403\n",
            "Epoch 14/20\n",
            "1000/1000 [==============================] - 8s 8ms/step - loss: 0.5530 - val_loss: 0.7502\n",
            "Epoch 15/20\n",
            "1000/1000 [==============================] - 9s 9ms/step - loss: 0.5386 - val_loss: 0.7764\n",
            "Epoch 16/20\n",
            "1000/1000 [==============================] - 9s 9ms/step - loss: 0.5318 - val_loss: 0.7701\n",
            "Epoch 17/20\n",
            "1000/1000 [==============================] - 8s 8ms/step - loss: 0.5280 - val_loss: 0.7841\n",
            "Epoch 18/20\n",
            "1000/1000 [==============================] - 9s 9ms/step - loss: 0.5313 - val_loss: 0.7869\n",
            "Epoch 19/20\n",
            "1000/1000 [==============================] - 8s 8ms/step - loss: 0.5168 - val_loss: 0.7957\n",
            "Epoch 20/20\n",
            "1000/1000 [==============================] - 8s 8ms/step - loss: 0.5162 - val_loss: 0.7990\n"
          ],
          "name": "stdout"
        }
      ]
    },
    {
      "metadata": {
        "id": "yG2Z0A4JwfLA",
        "colab_type": "code",
        "outputId": "f35f67d3-4358-421e-ddca-228bd27a2b22",
        "colab": {
          "base_uri": "https://localhost:8080/",
          "height": 280
        }
      },
      "cell_type": "code",
      "source": [
        "loss = history.history['loss']\n",
        "val_loss = history.history['val_loss']\n",
        "\n",
        "epochs = range(len(loss))\n",
        "\n",
        "plt.figure()\n",
        "\n",
        "plt.plot(epochs, loss, 'bo', label='Training loss')\n",
        "plt.plot(epochs, val_loss, 'b', label='Validation loss')\n",
        "plt.title('Training and validation loss')\n",
        "plt.legend()\n",
        "\n",
        "plt.show()"
      ],
      "execution_count": 0,
      "outputs": [
        {
          "output_type": "display_data",
          "data": {
            "image/png": "[encoded data removed]",
            "text/plain": [
              "<Figure size 432x288 with 1 Axes>"
            ]
          },
          "metadata": {
            "tags": []
          }
        }
      ]
    },
    {
      "metadata": {
        "id": "t1HKhJNsveiJ",
        "colab_type": "text"
      },
      "cell_type": "markdown",
      "source": [
        "# Predict Positive or Negative Returns"
      ]
    },
    {
      "metadata": {
        "id": "daPcGD5Jvk0z",
        "colab_type": "code",
        "outputId": "1049478d-97dd-47e8-8d0b-d2c5b5739f33",
        "colab": {
          "base_uri": "https://localhost:8080/",
          "height": 204
        }
      },
      "cell_type": "code",
      "source": [
        "data = pd.read_csv(five_year_stock_returns)\n",
        "data.head()"
      ],
      "execution_count": 0,
      "outputs": [
        {
          "output_type": "execute_result",
          "data": {
            "text/html": [
              "<div>\n",
              "<style scoped>\n",
              "    .dataframe tbody tr th:only-of-type {\n",
              "        vertical-align: middle;\n",
              "    }\n",
              "\n",
              "    .dataframe tbody tr th {\n",
              "        vertical-align: top;\n",
              "    }\n",
              "\n",
              "    .dataframe thead th {\n",
              "        text-align: right;\n",
              "    }\n",
              "</style>\n",
              "<table border=\"1\" class=\"dataframe\">\n",
              "  <thead>\n",
              "    <tr style=\"text-align: right;\">\n",
              "      <th></th>\n",
              "      <th>date</th>\n",
              "      <th>open</th>\n",
              "      <th>high</th>\n",
              "      <th>low</th>\n",
              "      <th>close</th>\n",
              "      <th>volume</th>\n",
              "      <th>returns</th>\n",
              "      <th>log_returns</th>\n",
              "    </tr>\n",
              "  </thead>\n",
              "  <tbody>\n",
              "    <tr>\n",
              "      <th>0</th>\n",
              "      <td>2014-03-13</td>\n",
              "      <td>243.79</td>\n",
              "      <td>244.1900</td>\n",
              "      <td>234.00</td>\n",
              "      <td>237.79</td>\n",
              "      <td>6236325</td>\n",
              "      <td>-0.015322</td>\n",
              "      <td>-0.015440</td>\n",
              "    </tr>\n",
              "    <tr>\n",
              "      <th>1</th>\n",
              "      <td>2014-03-14</td>\n",
              "      <td>235.29</td>\n",
              "      <td>236.9365</td>\n",
              "      <td>228.32</td>\n",
              "      <td>230.97</td>\n",
              "      <td>8289733</td>\n",
              "      <td>-0.028681</td>\n",
              "      <td>-0.029100</td>\n",
              "    </tr>\n",
              "    <tr>\n",
              "      <th>2</th>\n",
              "      <td>2014-03-17</td>\n",
              "      <td>234.95</td>\n",
              "      <td>237.9300</td>\n",
              "      <td>230.50</td>\n",
              "      <td>233.98</td>\n",
              "      <td>5912592</td>\n",
              "      <td>0.013032</td>\n",
              "      <td>0.012948</td>\n",
              "    </tr>\n",
              "    <tr>\n",
              "      <th>3</th>\n",
              "      <td>2014-03-18</td>\n",
              "      <td>236.95</td>\n",
              "      <td>241.5000</td>\n",
              "      <td>235.02</td>\n",
              "      <td>240.04</td>\n",
              "      <td>6242349</td>\n",
              "      <td>0.025900</td>\n",
              "      <td>0.025570</td>\n",
              "    </tr>\n",
              "    <tr>\n",
              "      <th>4</th>\n",
              "      <td>2014-03-19</td>\n",
              "      <td>241.39</td>\n",
              "      <td>241.5500</td>\n",
              "      <td>233.51</td>\n",
              "      <td>235.84</td>\n",
              "      <td>5071327</td>\n",
              "      <td>-0.017497</td>\n",
              "      <td>-0.017652</td>\n",
              "    </tr>\n",
              "  </tbody>\n",
              "</table>\n",
              "</div>"
            ],
            "text/plain": [
              "         date    open      high     low   close   volume   returns  \\\n",
              "0  2014-03-13  243.79  244.1900  234.00  237.79  6236325 -0.015322   \n",
              "1  2014-03-14  235.29  236.9365  228.32  230.97  8289733 -0.028681   \n",
              "2  2014-03-17  234.95  237.9300  230.50  233.98  5912592  0.013032   \n",
              "3  2014-03-18  236.95  241.5000  235.02  240.04  6242349  0.025900   \n",
              "4  2014-03-19  241.39  241.5500  233.51  235.84  5071327 -0.017497   \n",
              "\n",
              "   log_returns  \n",
              "0    -0.015440  \n",
              "1    -0.029100  \n",
              "2     0.012948  \n",
              "3     0.025570  \n",
              "4    -0.017652  "
            ]
          },
          "metadata": {
            "tags": []
          },
          "execution_count": 314
        }
      ]
    },
    {
      "metadata": {
        "id": "aU-OGhW-wdHE",
        "colab_type": "code",
        "outputId": "7873d45e-87e8-4341-ed02-5104d70c5cd6",
        "colab": {
          "base_uri": "https://localhost:8080/",
          "height": 204
        }
      },
      "cell_type": "code",
      "source": [
        "#data['returns_signal'] = np.where(data['log_returns'] > 0,1,0)\n",
        "#data2 = data[['date','returns_signal']]\n",
        "#data2.to_csv(\"/content/drive/My Drive/Colab Notebooks/stock-tickers/v2-Full-Target-TLSA-Returns-031312-030819.csv\",index=False)\n",
        "#data3 = data[['date','open','high','low','close','volume','returns','log_returns']]\n",
        "#data3.to_csv(\"/content/drive/My Drive/Colab Notebooks/stock-tickers/v2-Full-Features-TLSA-Returns-031312-030819.csv\",index=False)\n",
        "data_targets = pd.read_csv(five_year_stock_targets)\n",
        "data_targets.head()"
      ],
      "execution_count": 0,
      "outputs": [
        {
          "output_type": "execute_result",
          "data": {
            "text/html": [
              "<div>\n",
              "<style scoped>\n",
              "    .dataframe tbody tr th:only-of-type {\n",
              "        vertical-align: middle;\n",
              "    }\n",
              "\n",
              "    .dataframe tbody tr th {\n",
              "        vertical-align: top;\n",
              "    }\n",
              "\n",
              "    .dataframe thead th {\n",
              "        text-align: right;\n",
              "    }\n",
              "</style>\n",
              "<table border=\"1\" class=\"dataframe\">\n",
              "  <thead>\n",
              "    <tr style=\"text-align: right;\">\n",
              "      <th></th>\n",
              "      <th>date</th>\n",
              "      <th>returns_signal</th>\n",
              "    </tr>\n",
              "  </thead>\n",
              "  <tbody>\n",
              "    <tr>\n",
              "      <th>0</th>\n",
              "      <td>2014-03-13</td>\n",
              "      <td>0</td>\n",
              "    </tr>\n",
              "    <tr>\n",
              "      <th>1</th>\n",
              "      <td>2014-03-14</td>\n",
              "      <td>0</td>\n",
              "    </tr>\n",
              "    <tr>\n",
              "      <th>2</th>\n",
              "      <td>2014-03-17</td>\n",
              "      <td>1</td>\n",
              "    </tr>\n",
              "    <tr>\n",
              "      <th>3</th>\n",
              "      <td>2014-03-18</td>\n",
              "      <td>1</td>\n",
              "    </tr>\n",
              "    <tr>\n",
              "      <th>4</th>\n",
              "      <td>2014-03-19</td>\n",
              "      <td>0</td>\n",
              "    </tr>\n",
              "  </tbody>\n",
              "</table>\n",
              "</div>"
            ],
            "text/plain": [
              "         date  returns_signal\n",
              "0  2014-03-13               0\n",
              "1  2014-03-14               0\n",
              "2  2014-03-17               1\n",
              "3  2014-03-18               1\n",
              "4  2014-03-19               0"
            ]
          },
          "metadata": {
            "tags": []
          },
          "execution_count": 315
        }
      ]
    },
    {
      "metadata": {
        "id": "QY4J9ccex1_q",
        "colab_type": "code",
        "outputId": "b4b8385a-d8f9-44ef-f858-d7736db24069",
        "colab": {
          "base_uri": "https://localhost:8080/",
          "height": 51
        }
      },
      "cell_type": "code",
      "source": [
        "fname = os.path.join(data_dir, five_year_stock_returns)\n",
        "\n",
        "f = open(fname)\n",
        "data = f.read()\n",
        "f.close()\n",
        "\n",
        "lines = data.split('\\n')\n",
        "header = lines[0].split(',')\n",
        "lines = lines[1:1256]\n",
        "\n",
        "print(header)\n",
        "print(len(lines))"
      ],
      "execution_count": 0,
      "outputs": [
        {
          "output_type": "stream",
          "text": [
            "['date', 'open', 'high', 'low', 'close', 'volume', 'returns', 'log_returns']\n",
            "1255\n"
          ],
          "name": "stdout"
        }
      ]
    },
    {
      "metadata": {
        "id": "GegdR8OHyep0",
        "colab_type": "code",
        "outputId": "ea16e94f-d8e7-470a-eff6-48fcc599fab1",
        "colab": {
          "base_uri": "https://localhost:8080/",
          "height": 238
        }
      },
      "cell_type": "code",
      "source": [
        "float_data = np.zeros((len(lines), len(header)-1))\n",
        "for i, line in enumerate(lines):\n",
        "    if len(line) > 0:\n",
        "      values = [float(x) for x in line.split(',')[1:]]\n",
        "      float_data[i, :] = values\n",
        "\n",
        "float_data"
      ],
      "execution_count": 0,
      "outputs": [
        {
          "output_type": "execute_result",
          "data": {
            "text/plain": [
              "array([[ 2.43790000e+02,  2.44190000e+02,  2.34000000e+02, ...,\n",
              "         6.23632500e+06, -1.53215454e-02, -1.54401331e-02],\n",
              "       [ 2.35290000e+02,  2.36936500e+02,  2.28320000e+02, ...,\n",
              "         8.28973300e+06, -2.86807687e-02, -2.91000993e-02],\n",
              "       [ 2.34950000e+02,  2.37930000e+02,  2.30500000e+02, ...,\n",
              "         5.91259200e+06,  1.30319955e-02,  1.29478097e-02],\n",
              "       ...,\n",
              "       [ 2.82000000e+02,  2.84000000e+02,  2.70100000e+02, ...,\n",
              "         1.87647400e+07, -3.09083263e-02, -3.13960651e-02],\n",
              "       [ 2.76480000e+02,  2.81505800e+02,  2.74390000e+02, ...,\n",
              "         1.03354850e+07, -1.08483402e-03, -1.08542288e-03],\n",
              "       [ 2.78840000e+02,  2.84700000e+02,  2.74250000e+02, ...,\n",
              "         9.44248300e+06,  1.26701419e-03,  1.26621221e-03]])"
            ]
          },
          "metadata": {
            "tags": []
          },
          "execution_count": 317
        }
      ]
    },
    {
      "metadata": {
        "id": "9p7DPkCZzxVG",
        "colab_type": "code",
        "outputId": "53d306ae-21f5-4b31-b050-dfca76fc4b2c",
        "colab": {
          "base_uri": "https://localhost:8080/",
          "height": 238
        }
      },
      "cell_type": "code",
      "source": [
        "mean = float_data[:750].mean(axis=0)\n",
        "float_data -= mean\n",
        "std = float_data[:750].std(axis=0)\n",
        "float_data /= std\n",
        "float_data"
      ],
      "execution_count": 0,
      "outputs": [
        {
          "output_type": "execute_result",
          "data": {
            "text/plain": [
              "array([[ 0.77038729,  0.64744245,  0.53021169, ...,  0.47275501,\n",
              "        -0.62799663, -0.61797795],\n",
              "       [ 0.43141789,  0.35672333,  0.30374305, ...,  1.25446736,\n",
              "        -1.16271837, -1.16278238],\n",
              "       [ 0.41785912,  0.39654265,  0.39066235, ...,  0.34951302,\n",
              "         0.50689379,  0.51422667],\n",
              "       ...,\n",
              "       [ 2.29415444,  2.24302088,  1.96956347, ...,  5.24220014,\n",
              "        -1.2518795 , -1.25435306],\n",
              "       [ 2.07402373,  2.14305374,  2.14061109, ...,  2.03326515,\n",
              "        -0.0581522 , -0.04546485],\n",
              "       [ 2.16813758,  2.27107676,  2.13502912, ...,  1.69330802,\n",
              "         0.03598383,  0.0483261 ]])"
            ]
          },
          "metadata": {
            "tags": []
          },
          "execution_count": 318
        }
      ]
    },
    {
      "metadata": {
        "id": "_Qc6fn7Pz2_S",
        "colab_type": "code",
        "outputId": "f5358f10-1a71-480a-8ba7-62e569714aa5",
        "colab": {
          "base_uri": "https://localhost:8080/",
          "height": 170
        }
      },
      "cell_type": "code",
      "source": [
        "fname = os.path.join(data_dir, five_year_stock_targets)\n",
        "\n",
        "f = open(fname)\n",
        "data = f.read()\n",
        "f.close()\n",
        "\n",
        "lines = data.split('\\n')\n",
        "header = lines[0].split(',')\n",
        "lines = lines[1:1256]\n",
        "\n",
        "print(header)\n",
        "print(len(lines))\n",
        "\n",
        "float_data2 = np.zeros((len(lines), len(header)-1))\n",
        "for i, line in enumerate(lines):\n",
        "    if len(line) > 0:\n",
        "      values = [float(x) for x in line.split(',')[1:]]\n",
        "      float_data2[i, :] = values\n",
        "\n",
        "float_data2"
      ],
      "execution_count": 0,
      "outputs": [
        {
          "output_type": "stream",
          "text": [
            "['date', 'returns_signal']\n",
            "1255\n"
          ],
          "name": "stdout"
        },
        {
          "output_type": "execute_result",
          "data": {
            "text/plain": [
              "array([[0.],\n",
              "       [0.],\n",
              "       [1.],\n",
              "       ...,\n",
              "       [0.],\n",
              "       [0.],\n",
              "       [1.]])"
            ]
          },
          "metadata": {
            "tags": []
          },
          "execution_count": 319
        }
      ]
    },
    {
      "metadata": {
        "id": "YjanLLAB0Qvb",
        "colab_type": "code",
        "colab": {}
      },
      "cell_type": "code",
      "source": [
        "def generator(data1,data2, lookback, delay, min_index, max_index,\n",
        "              shuffle=False, batch_size=25, step=1):\n",
        "    if max_index is None:\n",
        "        max_index = len(data1) - delay - 1\n",
        "    i = min_index + lookback\n",
        "    while 1:\n",
        "        if shuffle:\n",
        "            rows = np.random.randint(\n",
        "                min_index + lookback, max_index, size=batch_size)\n",
        "        else:\n",
        "            if i + batch_size >= max_index:\n",
        "                i = min_index + lookback\n",
        "            rows = np.arange(i, min(i + batch_size, max_index))\n",
        "            i += len(rows)\n",
        "\n",
        "        samples = np.zeros((len(rows),\n",
        "                           lookback // step,\n",
        "                           data1.shape[-1]))\n",
        "        targets = np.zeros((len(rows),))\n",
        "        for j, row in enumerate(rows):\n",
        "            indices = range(rows[j] - lookback, rows[j], step)\n",
        "            samples[j] = data1[indices]\n",
        "            targets[j] = data2[rows[j] + delay][0] # signal\n",
        "        yield samples, targets"
      ],
      "execution_count": 0,
      "outputs": []
    },
    {
      "metadata": {
        "id": "Cuesjudi0VN_",
        "colab_type": "code",
        "outputId": "3c03b80e-563c-45c6-dbec-61d13d95f78d",
        "colab": {
          "base_uri": "https://localhost:8080/",
          "height": 68
        }
      },
      "cell_type": "code",
      "source": [
        "lookback = 10 \n",
        "step = 5 #\n",
        "delay = 1\n",
        "batch_size = 64\n",
        "\n",
        "train_gen = generator(data1=float_data,\n",
        "                      data2=float_data2,\n",
        "                      lookback=lookback,\n",
        "                      delay=delay,\n",
        "                      min_index=0,\n",
        "                      max_index=750,\n",
        "                      shuffle=True,\n",
        "                      step=step, \n",
        "                      batch_size=batch_size)\n",
        "val_gen = generator(data1=float_data,\n",
        "                    data2=float_data2,\n",
        "                    lookback=lookback,\n",
        "                    delay=delay,\n",
        "                    min_index=751,\n",
        "                    max_index=1000,\n",
        "                    step=step,\n",
        "                    batch_size=batch_size)\n",
        "test_gen = generator(data1=float_data,\n",
        "                     data2=float_data2,\n",
        "                     lookback=lookback,\n",
        "                     delay=delay,\n",
        "                     min_index=1001,\n",
        "                     max_index=None,\n",
        "                     step=step,\n",
        "                     batch_size=batch_size)\n",
        "\n",
        "# This is how many steps to draw from `val_gen`\n",
        "# in order to see the whole validation set:\n",
        "val_steps = (1000 - 751 - lookback) #// batch_size\n",
        "\n",
        "# This is how many steps to draw from `test_gen`\n",
        "# in order to see the whole test set:\n",
        "test_steps = (len(float_data) - 1001 - lookback) #// batch_size\n",
        "\n",
        "print(val_steps)\n",
        "print(test_steps)\n",
        "print(len(float_data))"
      ],
      "execution_count": 0,
      "outputs": [
        {
          "output_type": "stream",
          "text": [
            "239\n",
            "244\n",
            "1255\n"
          ],
          "name": "stdout"
        }
      ]
    },
    {
      "metadata": {
        "id": "VpP0kWiLK8E9",
        "colab_type": "text"
      },
      "cell_type": "markdown",
      "source": [
        "## Model 1  \n",
        "* Minimal drop out\n",
        "* tanh -> relu -> sigmoid"
      ]
    },
    {
      "metadata": {
        "id": "rsMATomV05On",
        "colab_type": "code",
        "outputId": "f625a3ae-743f-4483-bffe-57238a468d3f",
        "colab": {
          "base_uri": "https://localhost:8080/",
          "height": 357
        }
      },
      "cell_type": "code",
      "source": [
        "from keras.models import Sequential\n",
        "from keras import layers\n",
        "from keras.optimizers import RMSprop\n",
        "\n",
        "model = Sequential()\n",
        "model.add(layers.GRU(32,\n",
        "                     dropout=0.1,\n",
        "                     recurrent_dropout=0.5,\n",
        "                     return_sequences=True,\n",
        "                     input_shape=(None, float_data.shape[-1])))\n",
        "model.add(layers.GRU(64, activation='relu',\n",
        "                     dropout=0.1, \n",
        "                     recurrent_dropout=0.5))\n",
        "model.add(layers.Dense(1, activation='sigmoid'))\n",
        "\n",
        "model.compile(optimizer='adam', loss='binary_crossentropy',metrics=['accuracy'])\n",
        "history = model.fit_generator(train_gen,\n",
        "                              steps_per_epoch=1000,\n",
        "                              epochs=10,\n",
        "                              validation_data=val_gen,\n",
        "                              validation_steps=val_steps)"
      ],
      "execution_count": 0,
      "outputs": [
        {
          "output_type": "stream",
          "text": [
            "Epoch 1/10\n",
            "1000/1000 [==============================] - 24s 24ms/step - loss: 0.6731 - acc: 0.5711 - val_loss: 0.7328 - val_acc: 0.5262\n",
            "Epoch 2/10\n",
            "1000/1000 [==============================] - 9s 9ms/step - loss: 0.6377 - acc: 0.6179 - val_loss: 0.7059 - val_acc: 0.5367\n",
            "Epoch 3/10\n",
            "1000/1000 [==============================] - 9s 9ms/step - loss: 0.6012 - acc: 0.6559 - val_loss: 0.7437 - val_acc: 0.5262\n",
            "Epoch 4/10\n",
            "1000/1000 [==============================] - 9s 9ms/step - loss: 0.5635 - acc: 0.6871 - val_loss: 0.7646 - val_acc: 0.5365\n",
            "Epoch 5/10\n",
            "1000/1000 [==============================] - 8s 8ms/step - loss: 0.5402 - acc: 0.7039 - val_loss: 0.7791 - val_acc: 0.5104\n",
            "Epoch 6/10\n",
            "1000/1000 [==============================] - 9s 9ms/step - loss: 0.5131 - acc: 0.7270 - val_loss: 0.7614 - val_acc: 0.5417\n",
            "Epoch 7/10\n",
            "1000/1000 [==============================] - 9s 9ms/step - loss: 0.4925 - acc: 0.7413 - val_loss: 0.8197 - val_acc: 0.5158\n",
            "Epoch 8/10\n",
            "1000/1000 [==============================] - 9s 9ms/step - loss: 0.4690 - acc: 0.7578 - val_loss: 0.7921 - val_acc: 0.5363\n",
            "Epoch 9/10\n",
            "1000/1000 [==============================] - 9s 9ms/step - loss: 0.4540 - acc: 0.7674 - val_loss: 0.8422 - val_acc: 0.5001\n",
            "Epoch 10/10\n",
            "1000/1000 [==============================] - 9s 9ms/step - loss: 0.4383 - acc: 0.7774 - val_loss: 0.8520 - val_acc: 0.5000\n"
          ],
          "name": "stdout"
        }
      ]
    },
    {
      "metadata": {
        "id": "17SDd_Zf1Yth",
        "colab_type": "code",
        "outputId": "cb47e069-bd01-4915-beb9-a7ab6230f09c",
        "colab": {
          "base_uri": "https://localhost:8080/",
          "height": 280
        }
      },
      "cell_type": "code",
      "source": [
        "loss = history.history['loss']\n",
        "val_loss = history.history['val_loss']\n",
        "\n",
        "epochs = range(len(loss))\n",
        "\n",
        "plt.figure()\n",
        "\n",
        "plt.plot(epochs, loss, 'bo', label='Training loss')\n",
        "plt.plot(epochs, val_loss, 'b', label='Validation loss')\n",
        "plt.title('Training and validation loss')\n",
        "plt.legend()\n",
        "\n",
        "plt.show()"
      ],
      "execution_count": 0,
      "outputs": [
        {
          "output_type": "display_data",
          "data": {
            "image/png": "[encoded data removed]",
            "text/plain": [
              "<Figure size 432x288 with 1 Axes>"
            ]
          },
          "metadata": {
            "tags": []
          }
        }
      ]
    },
    {
      "metadata": {
        "id": "o08R5-C5LDso",
        "colab_type": "text"
      },
      "cell_type": "markdown",
      "source": [
        "## Model 2 \n",
        "* increased dropout\n",
        "* tanh ->  relu -> sigmoid"
      ]
    },
    {
      "metadata": {
        "id": "qJnVFlL92N9z",
        "colab_type": "code",
        "outputId": "aa958863-d204-47db-d7c3-82b8e6213098",
        "colab": {
          "base_uri": "https://localhost:8080/",
          "height": 357
        }
      },
      "cell_type": "code",
      "source": [
        "from keras.models import Sequential\n",
        "from keras import layers\n",
        "from keras.optimizers import RMSprop\n",
        "\n",
        "model = Sequential()\n",
        "model.add(layers.GRU(32,\n",
        "                     dropout=0.2,\n",
        "                     recurrent_dropout=0.2,\n",
        "                     return_sequences=True,\n",
        "                     input_shape=(None, float_data.shape[-1])))\n",
        "model.add(layers.GRU(64, activation='relu',\n",
        "                     dropout=0.3, \n",
        "                     recurrent_dropout=0.5))\n",
        "model.add(layers.Dense(1, activation='sigmoid'))\n",
        "\n",
        "model.compile(optimizer='adam', loss='binary_crossentropy',metrics=['accuracy'])\n",
        "history = model.fit_generator(train_gen,\n",
        "                              steps_per_epoch=1000,\n",
        "                              epochs=10,\n",
        "                              validation_data=val_gen,\n",
        "                              validation_steps=val_steps)"
      ],
      "execution_count": 0,
      "outputs": [
        {
          "output_type": "stream",
          "text": [
            "Epoch 1/10\n",
            "1000/1000 [==============================] - 25s 25ms/step - loss: 0.6802 - acc: 0.5558 - val_loss: 0.7074 - val_acc: 0.5311\n",
            "Epoch 2/10\n",
            "1000/1000 [==============================] - 9s 9ms/step - loss: 0.6558 - acc: 0.5935 - val_loss: 0.7138 - val_acc: 0.5262\n",
            "Epoch 3/10\n",
            "1000/1000 [==============================] - 9s 9ms/step - loss: 0.6374 - acc: 0.6172 - val_loss: 0.7142 - val_acc: 0.5363\n",
            "Epoch 4/10\n",
            "1000/1000 [==============================] - 9s 9ms/step - loss: 0.6173 - acc: 0.6405 - val_loss: 0.7127 - val_acc: 0.5365\n",
            "Epoch 5/10\n",
            "1000/1000 [==============================] - 9s 9ms/step - loss: 0.6045 - acc: 0.6510 - val_loss: 0.7116 - val_acc: 0.5572\n",
            "Epoch 6/10\n",
            "1000/1000 [==============================] - 9s 9ms/step - loss: 0.5884 - acc: 0.6665 - val_loss: 0.7284 - val_acc: 0.5258\n",
            "Epoch 7/10\n",
            "1000/1000 [==============================] - 9s 9ms/step - loss: 0.5741 - acc: 0.6795 - val_loss: 0.7394 - val_acc: 0.5417\n",
            "Epoch 8/10\n",
            "1000/1000 [==============================] - 9s 9ms/step - loss: 0.5630 - acc: 0.6849 - val_loss: 0.7702 - val_acc: 0.5157\n",
            "Epoch 9/10\n",
            "1000/1000 [==============================] - 9s 9ms/step - loss: 0.5508 - acc: 0.6964 - val_loss: 0.7702 - val_acc: 0.5310\n",
            "Epoch 10/10\n",
            "1000/1000 [==============================] - 9s 9ms/step - loss: 0.5391 - acc: 0.7043 - val_loss: 0.7880 - val_acc: 0.5418\n"
          ],
          "name": "stdout"
        }
      ]
    },
    {
      "metadata": {
        "id": "AOf_3bsg3L-x",
        "colab_type": "code",
        "outputId": "69bde20a-956a-4917-811a-848799577bb0",
        "colab": {
          "base_uri": "https://localhost:8080/",
          "height": 280
        }
      },
      "cell_type": "code",
      "source": [
        "loss = history.history['loss']\n",
        "val_loss = history.history['val_loss']\n",
        "\n",
        "epochs = range(len(loss))\n",
        "\n",
        "plt.figure()\n",
        "\n",
        "plt.plot(epochs, loss, 'bo', label='Training loss')\n",
        "plt.plot(epochs, val_loss, 'b', label='Validation loss')\n",
        "plt.title('Training and validation loss')\n",
        "plt.legend()\n",
        "\n",
        "plt.show()"
      ],
      "execution_count": 0,
      "outputs": [
        {
          "output_type": "display_data",
          "data": {
            "image/png": "[encoded data removed]",
            "text/plain": [
              "<Figure size 432x288 with 1 Axes>"
            ]
          },
          "metadata": {
            "tags": []
          }
        }
      ]
    },
    {
      "metadata": {
        "id": "_a4fswicLLeW",
        "colab_type": "text"
      },
      "cell_type": "markdown",
      "source": [
        "## Model 3\n",
        "* increase dropout and steps per epoch\n",
        "* sigmoid - > sigmoid -> sigmoid"
      ]
    },
    {
      "metadata": {
        "id": "qdKoNiX-3Iiu",
        "colab_type": "code",
        "outputId": "ac2a3fd5-8217-4e35-f236-b805d75f76c6",
        "colab": {
          "base_uri": "https://localhost:8080/",
          "height": 357
        }
      },
      "cell_type": "code",
      "source": [
        "from keras.models import Sequential\n",
        "from keras import layers\n",
        "from keras.optimizers import RMSprop\n",
        "\n",
        "model = Sequential()\n",
        "model.add(layers.GRU(32,\n",
        "                     activation='sigmoid',\n",
        "                     dropout=0.3,\n",
        "                     recurrent_dropout=0.5,\n",
        "                     return_sequences=True,\n",
        "                     input_shape=(None, float_data.shape[-1])))\n",
        "model.add(layers.GRU(64, activation='sigmoid',\n",
        "                     dropout=0.3, \n",
        "                     recurrent_dropout=0.5))\n",
        "model.add(layers.Dense(1, activation='sigmoid'))\n",
        "\n",
        "model.compile(optimizer='adam', loss='binary_crossentropy',metrics=['accuracy'])\n",
        "history = model.fit_generator(train_gen,\n",
        "                              steps_per_epoch=1200,\n",
        "                              epochs=10,\n",
        "                              validation_data=val_gen,\n",
        "                              validation_steps=val_steps)"
      ],
      "execution_count": 0,
      "outputs": [
        {
          "output_type": "stream",
          "text": [
            "Epoch 1/10\n",
            "1200/1200 [==============================] - 26s 22ms/step - loss: 0.6921 - acc: 0.5249 - val_loss: 0.7010 - val_acc: 0.4739\n",
            "Epoch 2/10\n",
            "1200/1200 [==============================] - 11s 9ms/step - loss: 0.6886 - acc: 0.5420 - val_loss: 0.6951 - val_acc: 0.4897\n",
            "Epoch 3/10\n",
            "1200/1200 [==============================] - 10s 9ms/step - loss: 0.6860 - acc: 0.5505 - val_loss: 0.6968 - val_acc: 0.4948\n",
            "Epoch 4/10\n",
            "1200/1200 [==============================] - 11s 9ms/step - loss: 0.6815 - acc: 0.5571 - val_loss: 0.6937 - val_acc: 0.5154\n",
            "Epoch 5/10\n",
            "1200/1200 [==============================] - 10s 9ms/step - loss: 0.6755 - acc: 0.5695 - val_loss: 0.6940 - val_acc: 0.5156\n",
            "Epoch 6/10\n",
            "1200/1200 [==============================] - 10s 9ms/step - loss: 0.6724 - acc: 0.5710 - val_loss: 0.6919 - val_acc: 0.5575\n",
            "Epoch 7/10\n",
            "1200/1200 [==============================] - 10s 9ms/step - loss: 0.6697 - acc: 0.5773 - val_loss: 0.6911 - val_acc: 0.5312\n",
            "Epoch 8/10\n",
            "1200/1200 [==============================] - 10s 9ms/step - loss: 0.6675 - acc: 0.5821 - val_loss: 0.6917 - val_acc: 0.5209\n",
            "Epoch 9/10\n",
            "1200/1200 [==============================] - 10s 9ms/step - loss: 0.6624 - acc: 0.5880 - val_loss: 0.6890 - val_acc: 0.5522\n",
            "Epoch 10/10\n",
            "1200/1200 [==============================] - 11s 9ms/step - loss: 0.6610 - acc: 0.5920 - val_loss: 0.6912 - val_acc: 0.5471\n"
          ],
          "name": "stdout"
        }
      ]
    },
    {
      "metadata": {
        "id": "xEXZuKNq3dYM",
        "colab_type": "code",
        "outputId": "a64c885d-c0b1-472f-ecec-dadad1e7532c",
        "colab": {
          "base_uri": "https://localhost:8080/",
          "height": 280
        }
      },
      "cell_type": "code",
      "source": [
        "loss = history.history['loss']\n",
        "val_loss = history.history['val_loss']\n",
        "\n",
        "epochs = range(len(loss))\n",
        "\n",
        "plt.figure()\n",
        "\n",
        "plt.plot(epochs, loss, 'bo', label='Training loss')\n",
        "plt.plot(epochs, val_loss, 'b', label='Validation loss')\n",
        "plt.title('Training and validation loss')\n",
        "plt.legend()\n",
        "\n",
        "plt.show()"
      ],
      "execution_count": 0,
      "outputs": [
        {
          "output_type": "display_data",
          "data": {
            "image/png": "[encoded data removed]",
            "text/plain": [
              "<Figure size 432x288 with 1 Axes>"
            ]
          },
          "metadata": {
            "tags": []
          }
        }
      ]
    },
    {
      "metadata": {
        "id": "9YPi_LrJJbEo",
        "colab_type": "text"
      },
      "cell_type": "markdown",
      "source": [
        "# Testing Sentiment Analysis\n",
        "\n",
        "Use stock data from subset range of available sentiment data\n"
      ]
    },
    {
      "metadata": {
        "id": "mMeyxqNSdbyI",
        "colab_type": "text"
      },
      "cell_type": "markdown",
      "source": [
        "### Data Prep"
      ]
    },
    {
      "metadata": {
        "id": "3XBhCGc_RbRz",
        "colab_type": "code",
        "outputId": "21d45b92-1fd1-49b8-d705-c3a953251194",
        "colab": {
          "base_uri": "https://localhost:8080/",
          "height": 204
        }
      },
      "cell_type": "code",
      "source": [
        "#data = pd.read_csv(\"/content/drive/My Drive/Colab Notebooks/stock-tickers/TSLA-No-Sentiment-Features.csv\")\n",
        "#data['returns_signal'] = np.where(data['log_returns'] > 0,1,0)\n",
        "#data.head()"
      ],
      "execution_count": 0,
      "outputs": [
        {
          "output_type": "execute_result",
          "data": {
            "text/html": [
              "<div>\n",
              "<style scoped>\n",
              "    .dataframe tbody tr th:only-of-type {\n",
              "        vertical-align: middle;\n",
              "    }\n",
              "\n",
              "    .dataframe tbody tr th {\n",
              "        vertical-align: top;\n",
              "    }\n",
              "\n",
              "    .dataframe thead th {\n",
              "        text-align: right;\n",
              "    }\n",
              "</style>\n",
              "<table border=\"1\" class=\"dataframe\">\n",
              "  <thead>\n",
              "    <tr style=\"text-align: right;\">\n",
              "      <th></th>\n",
              "      <th>Date</th>\n",
              "      <th>Open</th>\n",
              "      <th>High</th>\n",
              "      <th>Low</th>\n",
              "      <th>Close</th>\n",
              "      <th>Volume</th>\n",
              "      <th>Returns</th>\n",
              "      <th>log_returns</th>\n",
              "      <th>returns_signal</th>\n",
              "    </tr>\n",
              "  </thead>\n",
              "  <tbody>\n",
              "    <tr>\n",
              "      <th>0</th>\n",
              "      <td>8/21/2018</td>\n",
              "      <td>310.61</td>\n",
              "      <td>324.790</td>\n",
              "      <td>309.00</td>\n",
              "      <td>321.90</td>\n",
              "      <td>13172230</td>\n",
              "      <td>0.043639</td>\n",
              "      <td>0.042714</td>\n",
              "      <td>1</td>\n",
              "    </tr>\n",
              "    <tr>\n",
              "      <th>1</th>\n",
              "      <td>8/22/2018</td>\n",
              "      <td>320.87</td>\n",
              "      <td>323.880</td>\n",
              "      <td>314.67</td>\n",
              "      <td>321.64</td>\n",
              "      <td>5945955</td>\n",
              "      <td>-0.000808</td>\n",
              "      <td>-0.000808</td>\n",
              "      <td>0</td>\n",
              "    </tr>\n",
              "    <tr>\n",
              "      <th>2</th>\n",
              "      <td>8/23/2018</td>\n",
              "      <td>319.14</td>\n",
              "      <td>327.320</td>\n",
              "      <td>318.10</td>\n",
              "      <td>320.10</td>\n",
              "      <td>5147286</td>\n",
              "      <td>-0.004788</td>\n",
              "      <td>-0.004799</td>\n",
              "      <td>0</td>\n",
              "    </tr>\n",
              "    <tr>\n",
              "      <th>3</th>\n",
              "      <td>8/24/2018</td>\n",
              "      <td>320.70</td>\n",
              "      <td>323.850</td>\n",
              "      <td>319.40</td>\n",
              "      <td>322.82</td>\n",
              "      <td>3602564</td>\n",
              "      <td>0.008497</td>\n",
              "      <td>0.008461</td>\n",
              "      <td>1</td>\n",
              "    </tr>\n",
              "    <tr>\n",
              "      <th>4</th>\n",
              "      <td>8/27/2018</td>\n",
              "      <td>318.00</td>\n",
              "      <td>322.435</td>\n",
              "      <td>308.81</td>\n",
              "      <td>319.27</td>\n",
              "      <td>13079288</td>\n",
              "      <td>-0.010997</td>\n",
              "      <td>-0.011058</td>\n",
              "      <td>0</td>\n",
              "    </tr>\n",
              "  </tbody>\n",
              "</table>\n",
              "</div>"
            ],
            "text/plain": [
              "        Date    Open     High     Low   Close    Volume   Returns  \\\n",
              "0  8/21/2018  310.61  324.790  309.00  321.90  13172230  0.043639   \n",
              "1  8/22/2018  320.87  323.880  314.67  321.64   5945955 -0.000808   \n",
              "2  8/23/2018  319.14  327.320  318.10  320.10   5147286 -0.004788   \n",
              "3  8/24/2018  320.70  323.850  319.40  322.82   3602564  0.008497   \n",
              "4  8/27/2018  318.00  322.435  308.81  319.27  13079288 -0.010997   \n",
              "\n",
              "   log_returns  returns_signal  \n",
              "0     0.042714               1  \n",
              "1    -0.000808               0  \n",
              "2    -0.004799               0  \n",
              "3     0.008461               1  \n",
              "4    -0.011058               0  "
            ]
          },
          "metadata": {
            "tags": []
          },
          "execution_count": 133
        }
      ]
    },
    {
      "metadata": {
        "id": "21wOiPwpRyBh",
        "colab_type": "code",
        "colab": {}
      },
      "cell_type": "code",
      "source": [
        "#data9 = data[['Date','returns_signal']]\n",
        "#data9.head()\n",
        "#data9.to_csv(\"/content/drive/My Drive/Colab Notebooks/stock-tickers/TSLA-Sentiment-Target-Signals.csv\",index=False)"
      ],
      "execution_count": 0,
      "outputs": []
    },
    {
      "metadata": {
        "id": "piy863xcJggi",
        "colab_type": "code",
        "outputId": "106e5945-0271-4d6c-b9d4-c22fd2b5b2cf",
        "colab": {
          "base_uri": "https://localhost:8080/",
          "height": 51
        }
      },
      "cell_type": "code",
      "source": [
        "fname = os.path.join(data_dir, subset_no_sentiment_features)\n",
        "\n",
        "f = open(fname)\n",
        "data = f.read()\n",
        "f.close()\n",
        "\n",
        "lines = data.split('\\n')\n",
        "header = lines[0].split(',')\n",
        "lines = lines[1:140]\n",
        "\n",
        "print(header)\n",
        "print(len(lines))"
      ],
      "execution_count": 0,
      "outputs": [
        {
          "output_type": "stream",
          "text": [
            "['Date', 'Open', 'High', 'Low', 'Close', 'Volume', 'Returns', 'log_returns']\n",
            "139\n"
          ],
          "name": "stdout"
        }
      ]
    },
    {
      "metadata": {
        "id": "xZSEpJ7rO770",
        "colab_type": "code",
        "colab": {}
      },
      "cell_type": "code",
      "source": [
        "float_data = np.zeros((len(lines), len(header)-1))\n",
        "for i, line in enumerate(lines):\n",
        "    if len(line) > 0:\n",
        "      values = [float(x) for x in line.split(',')[1:]]\n",
        "      float_data[i, :] = values\n",
        "\n",
        "#float_data\n",
        "\n",
        "mean = float_data[:80].mean(axis=0)\n",
        "float_data -= mean\n",
        "std = float_data[:80].std(axis=0)\n",
        "float_data /= std\n",
        "#float_data"
      ],
      "execution_count": 0,
      "outputs": []
    },
    {
      "metadata": {
        "id": "oiNktHbWQFpF",
        "colab_type": "code",
        "outputId": "14503f33-d585-4539-e01d-7da3c4daf6ce",
        "colab": {
          "base_uri": "https://localhost:8080/",
          "height": 51
        }
      },
      "cell_type": "code",
      "source": [
        "fname = os.path.join(data_dir, subset_sentiment_stock_targets)\n",
        "\n",
        "f = open(fname)\n",
        "data = f.read()\n",
        "f.close()\n",
        "\n",
        "lines = data.split('\\n')\n",
        "header = lines[0].split(',')\n",
        "lines = lines[1:140]\n",
        "\n",
        "print(header)\n",
        "print(len(lines))\n",
        "\n",
        "float_data2 = np.zeros((len(lines), len(header)-1))\n",
        "for i, line in enumerate(lines):\n",
        "    if len(line) > 0:\n",
        "      values = [float(x) for x in line.split(',')[1:]]\n",
        "      float_data2[i, :] = values\n",
        "\n",
        "#float_data2"
      ],
      "execution_count": 0,
      "outputs": [
        {
          "output_type": "stream",
          "text": [
            "['Date', 'returns_signal']\n",
            "139\n"
          ],
          "name": "stdout"
        }
      ]
    },
    {
      "metadata": {
        "id": "JzmbaSIvSnJp",
        "colab_type": "code",
        "colab": {}
      },
      "cell_type": "code",
      "source": [
        "def generator(data1,data2, lookback, delay, min_index, max_index,\n",
        "              shuffle=False, batch_size=25, step=1):\n",
        "    if max_index is None:\n",
        "        max_index = len(data1) - delay - 1\n",
        "    i = min_index + lookback\n",
        "    while 1:\n",
        "        if shuffle:\n",
        "            rows = np.random.randint(\n",
        "                min_index + lookback, max_index, size=batch_size)\n",
        "        else:\n",
        "            if i + batch_size >= max_index:\n",
        "                i = min_index + lookback\n",
        "            rows = np.arange(i, min(i + batch_size, max_index))\n",
        "            i += len(rows)\n",
        "\n",
        "        samples = np.zeros((len(rows),\n",
        "                           lookback // step,\n",
        "                           data1.shape[-1]))\n",
        "        targets = np.zeros((len(rows),))\n",
        "        for j, row in enumerate(rows):\n",
        "            indices = range(rows[j] - lookback, rows[j], step)\n",
        "            samples[j] = data1[indices]\n",
        "            targets[j] = data2[rows[j] + delay][0] # signal\n",
        "        yield samples, targets"
      ],
      "execution_count": 0,
      "outputs": []
    },
    {
      "metadata": {
        "id": "f-FOzcU3dfPb",
        "colab_type": "text"
      },
      "cell_type": "markdown",
      "source": [
        "### Generator"
      ]
    },
    {
      "metadata": {
        "id": "OhQd8oW7S3y5",
        "colab_type": "code",
        "outputId": "d5f6e27e-1374-4be1-bfff-b749446208bc",
        "colab": {
          "base_uri": "https://localhost:8080/",
          "height": 68
        }
      },
      "cell_type": "code",
      "source": [
        "lookback = 6 # \n",
        "step = 3 #\n",
        "delay = 1\n",
        "batch_size = 12\n",
        "\n",
        "train_gen = generator(data1=float_data,\n",
        "                      data2=float_data2,\n",
        "                      lookback=lookback,\n",
        "                      delay=delay,\n",
        "                      min_index=0,\n",
        "                      max_index=80,\n",
        "                      shuffle=True,\n",
        "                      step=step, \n",
        "                      batch_size=batch_size)\n",
        "val_gen = generator(data1=float_data,\n",
        "                    data2=float_data2,\n",
        "                    lookback=lookback,\n",
        "                    delay=delay,\n",
        "                    min_index=81,\n",
        "                    max_index=114,\n",
        "                    step=step,\n",
        "                    batch_size=batch_size)\n",
        "test_gen = generator(data1=float_data,\n",
        "                     data2=float_data2,\n",
        "                     lookback=lookback,\n",
        "                     delay=delay,\n",
        "                     min_index=115,\n",
        "                     max_index=None,\n",
        "                     step=step,\n",
        "                     batch_size=batch_size)\n",
        "\n",
        "# This is how many steps to draw from `val_gen`\n",
        "# in order to see the whole validation set:\n",
        "val_steps = (114 - 81 - lookback) #// batch_size\n",
        "\n",
        "# This is how many steps to draw from `test_gen`\n",
        "# in order to see the whole test set:\n",
        "test_steps = (len(float_data) - 115 - lookback) #// batch_size\n",
        "\n",
        "print(val_steps)\n",
        "print(test_steps)\n",
        "print(len(float_data))"
      ],
      "execution_count": 0,
      "outputs": [
        {
          "output_type": "stream",
          "text": [
            "27\n",
            "18\n",
            "139\n"
          ],
          "name": "stdout"
        }
      ]
    },
    {
      "metadata": {
        "id": "9mnECaVQdi5Y",
        "colab_type": "text"
      },
      "cell_type": "markdown",
      "source": [
        "### Model 1: Baseline (without sentiment analysis)"
      ]
    },
    {
      "metadata": {
        "id": "rXJLB_BfTlSV",
        "colab_type": "code",
        "outputId": "11d97c5c-3d96-4eda-e0fa-c5c95f3eadce",
        "colab": {
          "base_uri": "https://localhost:8080/",
          "height": 357
        }
      },
      "cell_type": "code",
      "source": [
        "from keras.models import Sequential\n",
        "from keras import layers\n",
        "from keras.optimizers import RMSprop\n",
        "\n",
        "model = Sequential()\n",
        "model.add(layers.GRU(32,\n",
        "                     dropout=0.2,\n",
        "                     recurrent_dropout=0.5,\n",
        "                     return_sequences=True,\n",
        "                     input_shape=(None, float_data.shape[-1])))\n",
        "model.add(layers.GRU(64, activation='relu',\n",
        "                     dropout=0.2, \n",
        "                     recurrent_dropout=0.5))\n",
        "model.add(layers.Dense(1, activation='sigmoid'))\n",
        "\n",
        "model.compile(optimizer='adam', loss='binary_crossentropy',metrics=['accuracy'])\n",
        "history = model.fit_generator(train_gen,\n",
        "                              steps_per_epoch=1000,\n",
        "                              epochs=10,\n",
        "                              validation_data=val_gen,\n",
        "                              validation_steps=val_steps)"
      ],
      "execution_count": 0,
      "outputs": [
        {
          "output_type": "stream",
          "text": [
            "Epoch 1/10\n",
            "1000/1000 [==============================] - 27s 27ms/step - loss: 0.6022 - acc: 0.6622 - val_loss: 1.0301 - val_acc: 0.5031\n",
            "Epoch 2/10\n",
            "1000/1000 [==============================] - 7s 7ms/step - loss: 0.4850 - acc: 0.7491 - val_loss: 1.4430 - val_acc: 0.4599\n",
            "Epoch 3/10\n",
            "1000/1000 [==============================] - 7s 7ms/step - loss: 0.4065 - acc: 0.7962 - val_loss: 1.6806 - val_acc: 0.4167\n",
            "Epoch 4/10\n",
            "1000/1000 [==============================] - 7s 7ms/step - loss: 0.3386 - acc: 0.8413 - val_loss: 2.2404 - val_acc: 0.4167\n",
            "Epoch 5/10\n",
            "1000/1000 [==============================] - 7s 7ms/step - loss: 0.2903 - acc: 0.8737 - val_loss: 2.3622 - val_acc: 0.3765\n",
            "Epoch 6/10\n",
            "1000/1000 [==============================] - 7s 7ms/step - loss: 0.2450 - acc: 0.8953 - val_loss: 2.7439 - val_acc: 0.4167\n",
            "Epoch 7/10\n",
            "1000/1000 [==============================] - 7s 7ms/step - loss: 0.2172 - acc: 0.9099 - val_loss: 2.8502 - val_acc: 0.3765\n",
            "Epoch 8/10\n",
            "1000/1000 [==============================] - 7s 7ms/step - loss: 0.1843 - acc: 0.9236 - val_loss: 3.1494 - val_acc: 0.4599\n",
            "Epoch 9/10\n",
            "1000/1000 [==============================] - 7s 7ms/step - loss: 0.1737 - acc: 0.9278 - val_loss: 3.5146 - val_acc: 0.4167\n",
            "Epoch 10/10\n",
            "1000/1000 [==============================] - 7s 7ms/step - loss: 0.1565 - acc: 0.9348 - val_loss: 3.4105 - val_acc: 0.4167\n"
          ],
          "name": "stdout"
        }
      ]
    },
    {
      "metadata": {
        "id": "PBYW3I0DVEpf",
        "colab_type": "code",
        "outputId": "0d2858b8-4a34-46c3-9294-3d559850d5b9",
        "colab": {
          "base_uri": "https://localhost:8080/",
          "height": 280
        }
      },
      "cell_type": "code",
      "source": [
        "loss = history.history['loss']\n",
        "val_loss = history.history['val_loss']\n",
        "\n",
        "epochs = range(len(loss))\n",
        "\n",
        "plt.figure()\n",
        "\n",
        "plt.plot(epochs, loss, 'bo', label='Training loss')\n",
        "plt.plot(epochs, val_loss, 'b', label='Validation loss')\n",
        "plt.title('Training and validation loss')\n",
        "plt.legend()\n",
        "\n",
        "plt.show()"
      ],
      "execution_count": 0,
      "outputs": [
        {
          "output_type": "display_data",
          "data": {
            "image/png": "[encoded data removed]",
            "text/plain": [
              "<Figure size 432x288 with 1 Axes>"
            ]
          },
          "metadata": {
            "tags": []
          }
        }
      ]
    },
    {
      "metadata": {
        "id": "wJroUldBdlvq",
        "colab_type": "text"
      },
      "cell_type": "markdown",
      "source": [
        "### Model 2 (without sentiment analysis)\n",
        "\n",
        "* Increase dropout \n",
        "* tanh -> sigmoid -> sigmoid"
      ]
    },
    {
      "metadata": {
        "id": "d6SIyv9BViAd",
        "colab_type": "code",
        "outputId": "7905de0b-0ced-4c0d-f190-eb5b79b5f9ef",
        "colab": {
          "base_uri": "https://localhost:8080/",
          "height": 357
        }
      },
      "cell_type": "code",
      "source": [
        "from keras.models import Sequential\n",
        "from keras import layers\n",
        "from keras.optimizers import RMSprop\n",
        "\n",
        "model = Sequential()\n",
        "model.add(layers.GRU(32,\n",
        "                     activation='tanh',\n",
        "                     dropout=0.2,\n",
        "                     recurrent_dropout=0.5,\n",
        "                     return_sequences=True,\n",
        "                     input_shape=(None, float_data.shape[-1])))\n",
        "model.add(layers.GRU(64, activation='sigmoid',\n",
        "                     dropout=0.3, \n",
        "                     recurrent_dropout=0.5))\n",
        "model.add(layers.Dense(1, activation='sigmoid'))\n",
        "\n",
        "model.compile(optimizer='adam', loss='binary_crossentropy',metrics=['accuracy'])\n",
        "history = model.fit_generator(train_gen,\n",
        "                              steps_per_epoch=500,\n",
        "                              epochs=10,\n",
        "                              validation_data=val_gen,\n",
        "                              validation_steps=val_steps)"
      ],
      "execution_count": 0,
      "outputs": [
        {
          "output_type": "stream",
          "text": [
            "Epoch 1/10\n",
            "1200/1200 [==============================] - 28s 23ms/step - loss: 0.6251 - acc: 0.6259 - val_loss: 0.9582 - val_acc: 0.4074\n",
            "Epoch 2/10\n",
            "1200/1200 [==============================] - 9s 7ms/step - loss: 0.4976 - acc: 0.7391 - val_loss: 1.2976 - val_acc: 0.4815\n",
            "Epoch 3/10\n",
            "1200/1200 [==============================] - 9s 7ms/step - loss: 0.4303 - acc: 0.7824 - val_loss: 1.4714 - val_acc: 0.4074\n",
            "Epoch 4/10\n",
            "1200/1200 [==============================] - 9s 7ms/step - loss: 0.3803 - acc: 0.8162 - val_loss: 1.6280 - val_acc: 0.4074\n",
            "Epoch 5/10\n",
            "1200/1200 [==============================] - 9s 7ms/step - loss: 0.3478 - acc: 0.8348 - val_loss: 1.9281 - val_acc: 0.4444\n",
            "Epoch 6/10\n",
            "1200/1200 [==============================] - 9s 7ms/step - loss: 0.3153 - acc: 0.8551 - val_loss: 2.0248 - val_acc: 0.4444\n",
            "Epoch 7/10\n",
            "1200/1200 [==============================] - 9s 7ms/step - loss: 0.2931 - acc: 0.8682 - val_loss: 2.1218 - val_acc: 0.4444\n",
            "Epoch 8/10\n",
            "1200/1200 [==============================] - 9s 7ms/step - loss: 0.2709 - acc: 0.8813 - val_loss: 2.1172 - val_acc: 0.4444\n",
            "Epoch 9/10\n",
            "1200/1200 [==============================] - 9s 8ms/step - loss: 0.2472 - acc: 0.8943 - val_loss: 2.2783 - val_acc: 0.4444\n",
            "Epoch 10/10\n",
            "1200/1200 [==============================] - 9s 7ms/step - loss: 0.2336 - acc: 0.9009 - val_loss: 2.4375 - val_acc: 0.4074\n"
          ],
          "name": "stdout"
        }
      ]
    },
    {
      "metadata": {
        "id": "ZdyEUWjOVl84",
        "colab_type": "code",
        "outputId": "d2576635-9806-465a-e7f3-4088f9766ce6",
        "colab": {
          "base_uri": "https://localhost:8080/",
          "height": 280
        }
      },
      "cell_type": "code",
      "source": [
        "loss = history.history['loss']\n",
        "val_loss = history.history['val_loss']\n",
        "\n",
        "epochs = range(len(loss))\n",
        "\n",
        "plt.figure()\n",
        "\n",
        "plt.plot(epochs, loss, 'bo', label='Training loss')\n",
        "plt.plot(epochs, val_loss, 'b', label='Validation loss')\n",
        "plt.title('Training and validation loss')\n",
        "plt.legend()\n",
        "\n",
        "plt.show()"
      ],
      "execution_count": 0,
      "outputs": [
        {
          "output_type": "display_data",
          "data": {
            "image/png": "[encoded data removed]",
            "text/plain": [
              "<Figure size 432x288 with 1 Axes>"
            ]
          },
          "metadata": {
            "tags": []
          }
        }
      ]
    },
    {
      "metadata": {
        "id": "6nUkyKIBn6I2",
        "colab_type": "text"
      },
      "cell_type": "markdown",
      "source": [
        "### Model 3 (without sentiment analysis)\n",
        "* increase dropout and steps per epoch\n",
        "* sigmoid - > sigmoid -> sigmoid"
      ]
    },
    {
      "metadata": {
        "id": "zrDRQIa0oBPr",
        "colab_type": "code",
        "outputId": "e0c465a7-9ffc-4980-9c5e-477e91ad7e85",
        "colab": {
          "base_uri": "https://localhost:8080/",
          "height": 357
        }
      },
      "cell_type": "code",
      "source": [
        "from keras.models import Sequential\n",
        "from keras import layers\n",
        "from keras.optimizers import RMSprop\n",
        "\n",
        "model = Sequential()\n",
        "model.add(layers.GRU(32,\n",
        "                     activation='sigmoid',\n",
        "                     dropout=0.25,\n",
        "                     recurrent_dropout=0.5,\n",
        "                     return_sequences=True,\n",
        "                     input_shape=(None, float_data.shape[-1])))\n",
        "model.add(layers.GRU(64, activation='sigmoid',\n",
        "                     dropout=0.25, \n",
        "                     recurrent_dropout=0.5))\n",
        "model.add(layers.Dense(1, activation='sigmoid'))\n",
        "\n",
        "model.compile(optimizer='adam', loss='binary_crossentropy',metrics=['accuracy'])\n",
        "history = model.fit_generator(train_gen,\n",
        "                              steps_per_epoch=1000,\n",
        "                              epochs=10,\n",
        "                              validation_data=val_gen,\n",
        "                              validation_steps=val_steps)"
      ],
      "execution_count": 0,
      "outputs": [
        {
          "output_type": "stream",
          "text": [
            "Epoch 1/10\n",
            "1000/1000 [==============================] - 30s 30ms/step - loss: 0.6909 - acc: 0.5248 - val_loss: 0.7315 - val_acc: 0.3765\n",
            "Epoch 2/10\n",
            "1000/1000 [==============================] - 8s 8ms/step - loss: 0.6606 - acc: 0.5779 - val_loss: 0.7222 - val_acc: 0.4599\n",
            "Epoch 3/10\n",
            "1000/1000 [==============================] - 8s 8ms/step - loss: 0.6200 - acc: 0.6352 - val_loss: 0.8330 - val_acc: 0.4167\n",
            "Epoch 4/10\n",
            "1000/1000 [==============================] - 8s 8ms/step - loss: 0.5803 - acc: 0.6768 - val_loss: 1.0025 - val_acc: 0.3735\n",
            "Epoch 5/10\n",
            "1000/1000 [==============================] - 7s 7ms/step - loss: 0.5444 - acc: 0.7017 - val_loss: 1.1724 - val_acc: 0.4568\n",
            "Epoch 6/10\n",
            "1000/1000 [==============================] - 8s 8ms/step - loss: 0.5104 - acc: 0.7277 - val_loss: 1.2425 - val_acc: 0.4167\n",
            "Epoch 7/10\n",
            "1000/1000 [==============================] - 8s 8ms/step - loss: 0.4850 - acc: 0.7484 - val_loss: 1.3843 - val_acc: 0.4167\n",
            "Epoch 8/10\n",
            "1000/1000 [==============================] - 7s 7ms/step - loss: 0.4716 - acc: 0.7562 - val_loss: 1.3862 - val_acc: 0.4568\n",
            "Epoch 9/10\n",
            "1000/1000 [==============================] - 7s 7ms/step - loss: 0.4504 - acc: 0.7715 - val_loss: 1.4932 - val_acc: 0.5031\n",
            "Epoch 10/10\n",
            "1000/1000 [==============================] - 8s 8ms/step - loss: 0.4183 - acc: 0.7933 - val_loss: 1.5808 - val_acc: 0.4568\n"
          ],
          "name": "stdout"
        }
      ]
    },
    {
      "metadata": {
        "id": "rWXBFZ2Kokuq",
        "colab_type": "code",
        "outputId": "b9f733b3-376a-451f-e70c-14c01e69f45b",
        "colab": {
          "base_uri": "https://localhost:8080/",
          "height": 280
        }
      },
      "cell_type": "code",
      "source": [
        "loss = history.history['loss']\n",
        "val_loss = history.history['val_loss']\n",
        "\n",
        "epochs = range(len(loss))\n",
        "\n",
        "plt.figure()\n",
        "\n",
        "plt.plot(epochs, loss, 'bo', label='Training loss')\n",
        "plt.plot(epochs, val_loss, 'b', label='Validation loss')\n",
        "plt.title('Training and validation loss')\n",
        "plt.legend()\n",
        "\n",
        "plt.show()"
      ],
      "execution_count": 0,
      "outputs": [
        {
          "output_type": "display_data",
          "data": {
            "image/png": "[encoded data removed]",
            "text/plain": [
              "<Figure size 432x288 with 1 Axes>"
            ]
          },
          "metadata": {
            "tags": []
          }
        }
      ]
    },
    {
      "metadata": {
        "id": "3wnEJAI9b3do",
        "colab_type": "text"
      },
      "cell_type": "markdown",
      "source": [
        "## Add Sentiment Analysis"
      ]
    },
    {
      "metadata": {
        "id": "cqSkAP7MpPoc",
        "colab_type": "text"
      },
      "cell_type": "markdown",
      "source": [
        "### Data Prep"
      ]
    },
    {
      "metadata": {
        "id": "6aZLHumKb5sV",
        "colab_type": "code",
        "outputId": "4b86ef31-458b-44bc-e425-d1e68f8cfbec",
        "colab": {
          "base_uri": "https://localhost:8080/",
          "height": 51
        }
      },
      "cell_type": "code",
      "source": [
        "fname = os.path.join(data_dir, subset_sentiment_stock_features)\n",
        "\n",
        "f = open(fname)\n",
        "data = f.read()\n",
        "f.close()\n",
        "\n",
        "lines = data.split('\\n')\n",
        "header = lines[0].split(',')\n",
        "lines = lines[1:140]\n",
        "\n",
        "print(header)\n",
        "print(len(lines))"
      ],
      "execution_count": 0,
      "outputs": [
        {
          "output_type": "stream",
          "text": [
            "['Date', 'Open', 'High', 'Low', 'Close', 'Volume', 'Returns', 'log_returns', 'Sentiment']\n",
            "139\n"
          ],
          "name": "stdout"
        }
      ]
    },
    {
      "metadata": {
        "id": "35V7TiR_cMIE",
        "colab_type": "code",
        "colab": {}
      },
      "cell_type": "code",
      "source": [
        "float_data = np.zeros((len(lines), len(header)-1))\n",
        "for i, line in enumerate(lines):\n",
        "    if len(line) > 0:\n",
        "      values = [float(x) for x in line.split(',')[1:]]\n",
        "      float_data[i, :] = values\n",
        "\n",
        "#float_data"
      ],
      "execution_count": 0,
      "outputs": []
    },
    {
      "metadata": {
        "id": "pTsFdmfJcQFl",
        "colab_type": "code",
        "colab": {}
      },
      "cell_type": "code",
      "source": [
        "mean = float_data[:80].mean(axis=0)\n",
        "float_data -= mean\n",
        "std = float_data[:80].std(axis=0)\n",
        "float_data /= std\n",
        "#float_data"
      ],
      "execution_count": 0,
      "outputs": []
    },
    {
      "metadata": {
        "id": "BfdHazfacZeh",
        "colab_type": "code",
        "colab": {}
      },
      "cell_type": "code",
      "source": [
        "def generator(data1,data2, lookback, delay, min_index, max_index,\n",
        "              shuffle=False, batch_size=25, step=1):\n",
        "    if max_index is None:\n",
        "        max_index = len(data1) - delay - 1\n",
        "    i = min_index + lookback\n",
        "    while 1:\n",
        "        if shuffle:\n",
        "            rows = np.random.randint(\n",
        "                min_index + lookback, max_index, size=batch_size)\n",
        "        else:\n",
        "            if i + batch_size >= max_index:\n",
        "                i = min_index + lookback\n",
        "            rows = np.arange(i, min(i + batch_size, max_index))\n",
        "            i += len(rows)\n",
        "\n",
        "        samples = np.zeros((len(rows),\n",
        "                           lookback // step,\n",
        "                           data1.shape[-1]))\n",
        "        targets = np.zeros((len(rows),))\n",
        "        for j, row in enumerate(rows):\n",
        "            indices = range(rows[j] - lookback, rows[j], step)\n",
        "            samples[j] = data1[indices]\n",
        "            targets[j] = data2[rows[j] + delay][0] # signal\n",
        "        yield samples, targets"
      ],
      "execution_count": 0,
      "outputs": []
    },
    {
      "metadata": {
        "id": "E2UpvVincgK_",
        "colab_type": "code",
        "outputId": "94738ae0-9b68-4031-bf1b-3529224491ba",
        "colab": {
          "base_uri": "https://localhost:8080/",
          "height": 68
        }
      },
      "cell_type": "code",
      "source": [
        "lookback = 6 # \n",
        "step = 3 #\n",
        "delay = 1\n",
        "batch_size = 12\n",
        "\n",
        "train_gen = generator(data1=float_data,\n",
        "                      data2=float_data2,\n",
        "                      lookback=lookback,\n",
        "                      delay=delay,\n",
        "                      min_index=0,\n",
        "                      max_index=80,\n",
        "                      shuffle=True,\n",
        "                      step=step, \n",
        "                      batch_size=batch_size)\n",
        "val_gen = generator(data1=float_data,\n",
        "                    data2=float_data2,\n",
        "                    lookback=lookback,\n",
        "                    delay=delay,\n",
        "                    min_index=81,\n",
        "                    max_index=114,\n",
        "                    step=step,\n",
        "                    batch_size=batch_size)\n",
        "test_gen = generator(data1=float_data,\n",
        "                     data2=float_data2,\n",
        "                     lookback=lookback,\n",
        "                     delay=delay,\n",
        "                     min_index=115,\n",
        "                     max_index=None,\n",
        "                     step=step,\n",
        "                     batch_size=batch_size)\n",
        "\n",
        "# This is how many steps to draw from `val_gen`\n",
        "# in order to see the whole validation set:\n",
        "val_steps = (114 - 81 - lookback) #// batch_size\n",
        "\n",
        "# This is how many steps to draw from `test_gen`\n",
        "# in order to see the whole test set:\n",
        "test_steps = (len(float_data) - 115 - lookback) #// batch_size\n",
        "\n",
        "print(val_steps)\n",
        "print(test_steps)\n",
        "print(len(float_data))"
      ],
      "execution_count": 0,
      "outputs": [
        {
          "output_type": "stream",
          "text": [
            "27\n",
            "18\n",
            "139\n"
          ],
          "name": "stdout"
        }
      ]
    },
    {
      "metadata": {
        "id": "0bNs7Hrhd7gQ",
        "colab_type": "text"
      },
      "cell_type": "markdown",
      "source": [
        "### Model 1: Baseline (with sentiment analysis)"
      ]
    },
    {
      "metadata": {
        "id": "g4uphE9bdD-f",
        "colab_type": "code",
        "outputId": "287f9146-691d-4502-d2f5-dd7effaedcad",
        "colab": {
          "base_uri": "https://localhost:8080/",
          "height": 357
        }
      },
      "cell_type": "code",
      "source": [
        "from keras.models import Sequential\n",
        "from keras import layers\n",
        "from keras.optimizers import RMSprop\n",
        "\n",
        "model = Sequential()\n",
        "model.add(layers.GRU(32,\n",
        "                     dropout=0.2,\n",
        "                     recurrent_dropout=0.5,\n",
        "                     return_sequences=True,\n",
        "                     input_shape=(None, float_data.shape[-1])))\n",
        "model.add(layers.GRU(64, activation='relu',\n",
        "                     dropout=0.2, \n",
        "                     recurrent_dropout=0.5))\n",
        "model.add(layers.Dense(1, activation='sigmoid'))\n",
        "\n",
        "model.compile(optimizer='adam', loss='binary_crossentropy',metrics=['accuracy'])\n",
        "history = model.fit_generator(train_gen,\n",
        "                              steps_per_epoch=1600,\n",
        "                              epochs=10,\n",
        "                              validation_data=val_gen,\n",
        "                              validation_steps=val_steps)"
      ],
      "execution_count": 0,
      "outputs": [
        {
          "output_type": "stream",
          "text": [
            "Epoch 1/10\n",
            "1600/1600 [==============================] - 34s 21ms/step - loss: 0.4842 - acc: 0.7503 - val_loss: 1.0371 - val_acc: 0.5401\n",
            "Epoch 2/10\n",
            "1600/1600 [==============================] - 11s 7ms/step - loss: 0.2898 - acc: 0.8757 - val_loss: 1.4464 - val_acc: 0.5833\n",
            "Epoch 3/10\n",
            "1600/1600 [==============================] - 12s 7ms/step - loss: 0.2226 - acc: 0.9081 - val_loss: 1.6887 - val_acc: 0.6265\n",
            "Epoch 4/10\n",
            "1600/1600 [==============================] - 12s 7ms/step - loss: 0.1873 - acc: 0.9219 - val_loss: 1.9573 - val_acc: 0.5401\n",
            "Epoch 5/10\n",
            "1600/1600 [==============================] - 12s 7ms/step - loss: 0.1603 - acc: 0.9336 - val_loss: 2.1658 - val_acc: 0.5432\n",
            "Epoch 6/10\n",
            "1600/1600 [==============================] - 12s 7ms/step - loss: 0.1397 - acc: 0.9434 - val_loss: 2.5299 - val_acc: 0.4969\n",
            "Epoch 7/10\n",
            "1600/1600 [==============================] - 11s 7ms/step - loss: 0.1218 - acc: 0.9522 - val_loss: 2.6541 - val_acc: 0.4599\n",
            "Epoch 8/10\n",
            "1600/1600 [==============================] - 11s 7ms/step - loss: 0.1112 - acc: 0.9564 - val_loss: 2.9355 - val_acc: 0.5000\n",
            "Epoch 9/10\n",
            "1600/1600 [==============================] - 11s 7ms/step - loss: 0.1007 - acc: 0.9609 - val_loss: 2.9775 - val_acc: 0.4167\n",
            "Epoch 10/10\n",
            "1600/1600 [==============================] - 11s 7ms/step - loss: 0.0873 - acc: 0.9657 - val_loss: 2.9896 - val_acc: 0.4167\n"
          ],
          "name": "stdout"
        }
      ]
    },
    {
      "metadata": {
        "id": "crQyUEO0cibJ",
        "colab_type": "code",
        "outputId": "56e622bd-6d2f-4736-8abd-f5a370e2cb77",
        "colab": {
          "base_uri": "https://localhost:8080/",
          "height": 280
        }
      },
      "cell_type": "code",
      "source": [
        "loss = history.history['loss']\n",
        "val_loss = history.history['val_loss']\n",
        "\n",
        "epochs = range(len(loss))\n",
        "\n",
        "plt.figure()\n",
        "\n",
        "plt.plot(epochs, loss, 'bo', label='Training loss')\n",
        "plt.plot(epochs, val_loss, 'b', label='Validation loss')\n",
        "plt.title('Training and validation loss')\n",
        "plt.legend()\n",
        "\n",
        "plt.show()"
      ],
      "execution_count": 0,
      "outputs": [
        {
          "output_type": "display_data",
          "data": {
            "image/png": "[encoded data removed]",
            "text/plain": [
              "<Figure size 432x288 with 1 Axes>"
            ]
          },
          "metadata": {
            "tags": []
          }
        }
      ]
    },
    {
      "metadata": {
        "id": "FBQmWI0XeKLt",
        "colab_type": "text"
      },
      "cell_type": "markdown",
      "source": [
        "### Model 2 (with sentiment analysis)\n",
        "\n",
        "* Increase dropout \n",
        "* tanh -> relu -> sigmoid"
      ]
    },
    {
      "metadata": {
        "id": "86CJzomZeMQb",
        "colab_type": "code",
        "outputId": "136882b0-c198-48b6-d06b-fffdb8bd7792",
        "colab": {
          "base_uri": "https://localhost:8080/",
          "height": 357
        }
      },
      "cell_type": "code",
      "source": [
        "from keras.models import Sequential\n",
        "from keras import layers\n",
        "from keras.optimizers import RMSprop\n",
        "\n",
        "model = Sequential()\n",
        "model.add(layers.GRU(32,\n",
        "                     activation='tanh',\n",
        "                     dropout=0.3,\n",
        "                     recurrent_dropout=0.5,\n",
        "                     return_sequences=True,\n",
        "                     input_shape=(None, float_data.shape[-1])))\n",
        "model.add(layers.GRU(64, activation='relu',\n",
        "                     dropout=0.3, \n",
        "                     recurrent_dropout=0.5))\n",
        "model.add(layers.Dense(1, activation='sigmoid'))\n",
        "\n",
        "model.compile(optimizer='adam', loss='binary_crossentropy',metrics=['accuracy'])\n",
        "history = model.fit_generator(train_gen,\n",
        "                              steps_per_epoch=500,\n",
        "                              epochs=10,\n",
        "                              validation_data=val_gen,\n",
        "                              validation_steps=val_steps)"
      ],
      "execution_count": 0,
      "outputs": [
        {
          "output_type": "stream",
          "text": [
            "Epoch 1/10\n",
            "500/500 [==============================] - 27s 55ms/step - loss: 0.6668 - acc: 0.5927 - val_loss: 0.7668 - val_acc: 0.4568\n",
            "Epoch 2/10\n",
            "500/500 [==============================] - 4s 8ms/step - loss: 0.5487 - acc: 0.7115 - val_loss: 1.0049 - val_acc: 0.5833\n",
            "Epoch 3/10\n",
            "500/500 [==============================] - 4s 8ms/step - loss: 0.4647 - acc: 0.7638 - val_loss: 1.1654 - val_acc: 0.4599\n",
            "Epoch 4/10\n",
            "500/500 [==============================] - 4s 8ms/step - loss: 0.4069 - acc: 0.8077 - val_loss: 1.3106 - val_acc: 0.5432\n",
            "Epoch 5/10\n",
            "500/500 [==============================] - 4s 8ms/step - loss: 0.3834 - acc: 0.8208 - val_loss: 1.4215 - val_acc: 0.5401\n",
            "Epoch 6/10\n",
            "500/500 [==============================] - 4s 8ms/step - loss: 0.3502 - acc: 0.8375 - val_loss: 1.5207 - val_acc: 0.4969\n",
            "Epoch 7/10\n",
            "500/500 [==============================] - 4s 8ms/step - loss: 0.3362 - acc: 0.8503 - val_loss: 1.5520 - val_acc: 0.5432\n",
            "Epoch 8/10\n",
            "500/500 [==============================] - 4s 7ms/step - loss: 0.3228 - acc: 0.8510 - val_loss: 1.7336 - val_acc: 0.5833\n",
            "Epoch 9/10\n",
            "500/500 [==============================] - 4s 8ms/step - loss: 0.3061 - acc: 0.8642 - val_loss: 1.7595 - val_acc: 0.5000\n",
            "Epoch 10/10\n",
            "500/500 [==============================] - 4s 8ms/step - loss: 0.2810 - acc: 0.8742 - val_loss: 1.9245 - val_acc: 0.5401\n"
          ],
          "name": "stdout"
        }
      ]
    },
    {
      "metadata": {
        "id": "o0WtCc0uevFw",
        "colab_type": "code",
        "outputId": "3fe269e0-1a7e-4604-b613-468f719c9ac6",
        "colab": {
          "base_uri": "https://localhost:8080/",
          "height": 280
        }
      },
      "cell_type": "code",
      "source": [
        "loss = history.history['loss']\n",
        "val_loss = history.history['val_loss']\n",
        "\n",
        "epochs = range(len(loss))\n",
        "\n",
        "plt.figure()\n",
        "\n",
        "plt.plot(epochs, loss, 'bo', label='Training loss')\n",
        "plt.plot(epochs, val_loss, 'b', label='Validation loss')\n",
        "plt.title('Training and validation loss')\n",
        "plt.legend()\n",
        "\n",
        "plt.show()"
      ],
      "execution_count": 0,
      "outputs": [
        {
          "output_type": "display_data",
          "data": {
            "image/png": "[encoded data removed]",
            "text/plain": [
              "<Figure size 432x288 with 1 Axes>"
            ]
          },
          "metadata": {
            "tags": []
          }
        }
      ]
    },
    {
      "metadata": {
        "id": "2HRZo-FSo-q0",
        "colab_type": "text"
      },
      "cell_type": "markdown",
      "source": [
        "### Model 3 (with sentiment analysis)\n",
        "* increase dropout and steps per epoch\n",
        "* sigmoid - > sigmoid -> sigmoid"
      ]
    },
    {
      "metadata": {
        "id": "MhB403lKo3O8",
        "colab_type": "code",
        "outputId": "3125183c-2f4d-47cc-c3a9-8bca4925fc03",
        "colab": {
          "base_uri": "https://localhost:8080/",
          "height": 357
        }
      },
      "cell_type": "code",
      "source": [
        "from keras.models import Sequential\n",
        "from keras import layers\n",
        "from keras.optimizers import RMSprop\n",
        "\n",
        "model = Sequential()\n",
        "model.add(layers.GRU(32,\n",
        "                     activation='sigmoid',\n",
        "                     dropout=0.35,\n",
        "                     recurrent_dropout=0.5,\n",
        "                     return_sequences=True,\n",
        "                     input_shape=(None, float_data.shape[-1])))\n",
        "model.add(layers.GRU(64, activation='sigmoid',\n",
        "                     dropout=0.35, \n",
        "                     recurrent_dropout=0.5))\n",
        "model.add(layers.Dense(1, activation='sigmoid'))\n",
        "\n",
        "model.compile(optimizer='adam', loss='binary_crossentropy',metrics=['accuracy'])\n",
        "history = model.fit_generator(train_gen,\n",
        "                              steps_per_epoch=1000,\n",
        "                              epochs=10,\n",
        "                              validation_data=val_gen,\n",
        "                              validation_steps=val_steps)"
      ],
      "execution_count": 0,
      "outputs": [
        {
          "output_type": "stream",
          "text": [
            "Epoch 1/10\n",
            "1000/1000 [==============================] - 32s 32ms/step - loss: 0.6912 - acc: 0.5199 - val_loss: 0.6913 - val_acc: 0.5031\n",
            "Epoch 2/10\n",
            "1000/1000 [==============================] - 7s 7ms/step - loss: 0.6640 - acc: 0.5837 - val_loss: 0.7566 - val_acc: 0.5370\n",
            "Epoch 3/10\n",
            "1000/1000 [==============================] - 7s 7ms/step - loss: 0.6326 - acc: 0.6248 - val_loss: 0.7664 - val_acc: 0.5432\n",
            "Epoch 4/10\n",
            "1000/1000 [==============================] - 7s 7ms/step - loss: 0.5967 - acc: 0.6649 - val_loss: 0.8321 - val_acc: 0.5000\n",
            "Epoch 5/10\n",
            "1000/1000 [==============================] - 7s 7ms/step - loss: 0.5656 - acc: 0.6932 - val_loss: 0.8570 - val_acc: 0.4969\n",
            "Epoch 6/10\n",
            "1000/1000 [==============================] - 7s 7ms/step - loss: 0.5397 - acc: 0.7167 - val_loss: 0.9505 - val_acc: 0.5432\n",
            "Epoch 7/10\n",
            "1000/1000 [==============================] - 7s 7ms/step - loss: 0.4893 - acc: 0.7553 - val_loss: 1.0266 - val_acc: 0.4969\n",
            "Epoch 8/10\n",
            "1000/1000 [==============================] - 7s 7ms/step - loss: 0.4790 - acc: 0.7616 - val_loss: 1.1010 - val_acc: 0.5000\n",
            "Epoch 9/10\n",
            "1000/1000 [==============================] - 7s 7ms/step - loss: 0.4470 - acc: 0.7807 - val_loss: 1.2061 - val_acc: 0.5000\n",
            "Epoch 10/10\n",
            "1000/1000 [==============================] - 7s 7ms/step - loss: 0.4306 - acc: 0.7954 - val_loss: 1.2806 - val_acc: 0.5432\n"
          ],
          "name": "stdout"
        }
      ]
    },
    {
      "metadata": {
        "id": "vjsvSLEXpvFE",
        "colab_type": "code",
        "outputId": "e708fc5b-e8f6-44db-ab1f-de15f108967b",
        "colab": {
          "base_uri": "https://localhost:8080/",
          "height": 280
        }
      },
      "cell_type": "code",
      "source": [
        "loss = history.history['loss']\n",
        "val_loss = history.history['val_loss']\n",
        "\n",
        "epochs = range(len(loss))\n",
        "\n",
        "plt.figure()\n",
        "\n",
        "plt.plot(epochs, loss, 'bo', label='Training loss')\n",
        "plt.plot(epochs, val_loss, 'b', label='Validation loss')\n",
        "plt.title('Training and validation loss')\n",
        "plt.legend()\n",
        "\n",
        "plt.show()"
      ],
      "execution_count": 0,
      "outputs": [
        {
          "output_type": "display_data",
          "data": {
            "image/png": "[encoded data removed]",
            "text/plain": [
              "<Figure size 432x288 with 1 Axes>"
            ]
          },
          "metadata": {
            "tags": []
          }
        }
      ]
    },
    {
      "metadata": {
        "id": "o12r_RAyY4SB",
        "colab_type": "text"
      },
      "cell_type": "markdown",
      "source": [
        "## Model 4: Optimizing the Chosen Model"
      ]
    },
    {
      "metadata": {
        "id": "Rk8RR-CFpy93",
        "colab_type": "code",
        "outputId": "a8f86431-11fd-4e8c-fde1-0ba8f5f14385",
        "colab": {
          "base_uri": "https://localhost:8080/",
          "height": 353
        }
      },
      "cell_type": "code",
      "source": [
        "from keras.models import Sequential\n",
        "from keras import layers\n",
        "from keras.optimizers import RMSprop\n",
        "\n",
        "model = Sequential()\n",
        "model.add(layers.LSTM(32,\n",
        "                     activation='tanh',\n",
        "                     dropout=0.35,\n",
        "                     recurrent_dropout=0.5,\n",
        "                     return_sequences=True,\n",
        "                     input_shape=(None, float_data.shape[-1])))\n",
        "model.add(layers.LSTM(64, activation='sigmoid',\n",
        "                     dropout=0.35, \n",
        "                     recurrent_dropout=0.5))\n",
        "model.add(layers.Dense(1, activation='sigmoid'))\n",
        "\n",
        "model.compile(optimizer='adam', loss='binary_crossentropy',metrics=['accuracy'])\n",
        "history = model.fit_generator(train_gen,\n",
        "                              steps_per_epoch=1000,\n",
        "                              epochs=10,\n",
        "                              validation_data=val_gen,\n",
        "                              validation_steps=val_steps)"
      ],
      "execution_count": 0,
      "outputs": [
        {
          "output_type": "stream",
          "text": [
            "Epoch 1/10\n",
            "1000/1000 [==============================] - 37s 37ms/step - loss: 0.6496 - acc: 0.6032 - val_loss: 0.7432 - val_acc: 0.4599\n",
            "Epoch 2/10\n",
            "1000/1000 [==============================] - 9s 9ms/step - loss: 0.5067 - acc: 0.7437 - val_loss: 0.9356 - val_acc: 0.5401\n",
            "Epoch 3/10\n",
            "1000/1000 [==============================] - 8s 8ms/step - loss: 0.4170 - acc: 0.7977 - val_loss: 1.1392 - val_acc: 0.5031\n",
            "Epoch 4/10\n",
            "1000/1000 [==============================] - 9s 9ms/step - loss: 0.3771 - acc: 0.8234 - val_loss: 1.1796 - val_acc: 0.5802\n",
            "Epoch 5/10\n",
            "1000/1000 [==============================] - 8s 8ms/step - loss: 0.3420 - acc: 0.8475 - val_loss: 1.3309 - val_acc: 0.6667\n",
            "Epoch 6/10\n",
            "1000/1000 [==============================] - 8s 8ms/step - loss: 0.3130 - acc: 0.8589 - val_loss: 1.4200 - val_acc: 0.5833\n",
            "Epoch 7/10\n",
            "1000/1000 [==============================] - 9s 9ms/step - loss: 0.2932 - acc: 0.8696 - val_loss: 1.4680 - val_acc: 0.5833\n",
            "Epoch 8/10\n",
            "1000/1000 [==============================] - 9s 9ms/step - loss: 0.2755 - acc: 0.8792 - val_loss: 1.4863 - val_acc: 0.5833\n",
            "Epoch 9/10\n",
            "1000/1000 [==============================] - 9s 9ms/step - loss: 0.2705 - acc: 0.8810 - val_loss: 1.5759 - val_acc: 0.5432\n",
            "Epoch 10/10\n",
            "1000/1000 [==============================] - 9s 9ms/step - loss: 0.2525 - acc: 0.8932 - val_loss: 1.6492 - val_acc: 0.5833\n"
          ],
          "name": "stdout"
        }
      ]
    },
    {
      "metadata": {
        "id": "2eqFR1wJeBwQ",
        "colab_type": "code",
        "outputId": "2b3d097f-c9d8-4416-e869-2d91a2d33be5",
        "colab": {
          "base_uri": "https://localhost:8080/",
          "height": 280
        }
      },
      "cell_type": "code",
      "source": [
        "loss = history.history['loss']\n",
        "val_loss = history.history['val_loss']\n",
        "\n",
        "epochs = range(len(loss))\n",
        "\n",
        "plt.figure()\n",
        "\n",
        "plt.plot(epochs, loss, 'bo', label='Training loss')\n",
        "plt.plot(epochs, val_loss, 'b', label='Validation loss')\n",
        "plt.title('Training and validation loss')\n",
        "plt.legend()\n",
        "\n",
        "plt.show()"
      ],
      "execution_count": 0,
      "outputs": [
        {
          "output_type": "display_data",
          "data": {
            "image/png": "[encoded data removed]",
            "text/plain": [
              "<Figure size 432x288 with 1 Axes>"
            ]
          },
          "metadata": {
            "tags": []
          }
        }
      ]
    },
    {
      "metadata": {
        "id": "0YQdekqAnxPu",
        "colab_type": "code",
        "outputId": "1a590ec8-aa86-4c36-f27e-76be07a61e53",
        "colab": {
          "base_uri": "https://localhost:8080/",
          "height": 353
        }
      },
      "cell_type": "code",
      "source": [
        "from keras.models import Sequential\n",
        "from keras import layers\n",
        "from keras.optimizers import RMSprop\n",
        "\n",
        "model = Sequential()\n",
        "model.add(layers.LSTM(32,\n",
        "                     activation='tanh',\n",
        "                     dropout=0.35,\n",
        "                     recurrent_dropout=0.5,\n",
        "                     return_sequences=True,\n",
        "                     input_shape=(None, float_data.shape[-1])))\n",
        "model.add(layers.LSTM(64, activation='sigmoid',\n",
        "                     dropout=0.35, \n",
        "                     recurrent_dropout=0.5))\n",
        "model.add(layers.Dense(1, activation='sigmoid'))\n",
        "\n",
        "model.compile(optimizer='adam', loss='binary_crossentropy',metrics=['accuracy'])\n",
        "history = model.fit_generator(train_gen,\n",
        "                              steps_per_epoch=1000,\n",
        "                              epochs=10,\n",
        "                              validation_data=test_gen,\n",
        "                              validation_steps=test_steps)"
      ],
      "execution_count": 0,
      "outputs": [
        {
          "output_type": "stream",
          "text": [
            "Epoch 1/10\n",
            "1000/1000 [==============================] - 37s 37ms/step - loss: 0.6503 - acc: 0.6082 - val_loss: 0.7310 - val_acc: 0.4167\n",
            "Epoch 2/10\n",
            "1000/1000 [==============================] - 8s 8ms/step - loss: 0.5101 - acc: 0.7490 - val_loss: 0.8075 - val_acc: 0.5833\n",
            "Epoch 3/10\n",
            "1000/1000 [==============================] - 8s 8ms/step - loss: 0.4244 - acc: 0.8001 - val_loss: 0.9055 - val_acc: 0.5833\n",
            "Epoch 4/10\n",
            "1000/1000 [==============================] - 8s 8ms/step - loss: 0.3788 - acc: 0.8254 - val_loss: 0.9635 - val_acc: 0.5000\n",
            "Epoch 5/10\n",
            "1000/1000 [==============================] - 8s 8ms/step - loss: 0.3418 - acc: 0.8448 - val_loss: 0.9895 - val_acc: 0.5833\n",
            "Epoch 6/10\n",
            "1000/1000 [==============================] - 8s 8ms/step - loss: 0.3164 - acc: 0.8594 - val_loss: 0.9944 - val_acc: 0.4167\n",
            "Epoch 7/10\n",
            "1000/1000 [==============================] - 9s 9ms/step - loss: 0.2995 - acc: 0.8667 - val_loss: 1.1143 - val_acc: 0.5000\n",
            "Epoch 8/10\n",
            "1000/1000 [==============================] - 8s 8ms/step - loss: 0.2750 - acc: 0.8825 - val_loss: 1.1726 - val_acc: 0.5833\n",
            "Epoch 9/10\n",
            "1000/1000 [==============================] - 8s 8ms/step - loss: 0.2669 - acc: 0.8836 - val_loss: 1.1369 - val_acc: 0.5833\n",
            "Epoch 10/10\n",
            "1000/1000 [==============================] - 10s 10ms/step - loss: 0.2571 - acc: 0.8915 - val_loss: 1.1803 - val_acc: 0.5000\n"
          ],
          "name": "stdout"
        }
      ]
    }
  ]
}